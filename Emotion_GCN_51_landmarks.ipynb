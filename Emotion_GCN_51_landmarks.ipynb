{
  "cells": [
    {
      "cell_type": "code",
      "execution_count": null,
      "metadata": {
        "colab": {
          "base_uri": "https://localhost:8080/"
        },
        "id": "MgyuCfWnws0f",
        "outputId": "acf853f8-0c11-4af1-9b9d-af13ff9da4e1"
      },
      "outputs": [
        {
          "output_type": "stream",
          "name": "stdout",
          "text": [
            "Mounted at /content/drive\n"
          ]
        }
      ],
      "source": [
        "from google.colab import drive\n",
        "drive.mount('/content/drive')"
      ]
    },
    {
      "cell_type": "code",
      "execution_count": null,
      "metadata": {
        "id": "WrFgNha6xCd1"
      },
      "outputs": [],
      "source": [
        "import numpy as np\n",
        "import pandas as pd\n",
        "from sklearn.preprocessing import LabelEncoder\n",
        "from tensorflow.keras.utils import to_categorical\n",
        "from scipy.sparse import csr_matrix"
      ]
    },
    {
      "cell_type": "code",
      "execution_count": null,
      "metadata": {
        "colab": {
          "base_uri": "https://localhost:8080/",
          "height": 206
        },
        "id": "-FP4Jxd6xHVN",
        "outputId": "090d829f-a70c-4c6c-c548-088407b18741"
      },
      "outputs": [
        {
          "output_type": "execute_result",
          "data": {
            "text/plain": [
              "   emotion                                             pixels     Usage\n",
              "0        1  89 55 24 40 43 48 53 55 59 41 33 31 22 32 42 4...  Training\n",
              "1        1  204 195 181 131 50 50 57 56 66 98 138 161 173 ...  Training\n",
              "2        1  18 25 49 75 89 97 100 100 101 103 105 107 107 ...  Training\n",
              "3        1  49 53 44 48 45 41 28 28 36 38 39 64 78 86 74 6...  Training\n",
              "4        1  0 0 0 0 0 0 0 0 0 2 0 52 190 198 213 216 220 2...  Training"
            ],
            "text/html": [
              "\n",
              "  <div id=\"df-b1e1d1f7-e171-47ea-b541-19563571fad9\" class=\"colab-df-container\">\n",
              "    <div>\n",
              "<style scoped>\n",
              "    .dataframe tbody tr th:only-of-type {\n",
              "        vertical-align: middle;\n",
              "    }\n",
              "\n",
              "    .dataframe tbody tr th {\n",
              "        vertical-align: top;\n",
              "    }\n",
              "\n",
              "    .dataframe thead th {\n",
              "        text-align: right;\n",
              "    }\n",
              "</style>\n",
              "<table border=\"1\" class=\"dataframe\">\n",
              "  <thead>\n",
              "    <tr style=\"text-align: right;\">\n",
              "      <th></th>\n",
              "      <th>emotion</th>\n",
              "      <th>pixels</th>\n",
              "      <th>Usage</th>\n",
              "    </tr>\n",
              "  </thead>\n",
              "  <tbody>\n",
              "    <tr>\n",
              "      <th>0</th>\n",
              "      <td>1</td>\n",
              "      <td>89 55 24 40 43 48 53 55 59 41 33 31 22 32 42 4...</td>\n",
              "      <td>Training</td>\n",
              "    </tr>\n",
              "    <tr>\n",
              "      <th>1</th>\n",
              "      <td>1</td>\n",
              "      <td>204 195 181 131 50 50 57 56 66 98 138 161 173 ...</td>\n",
              "      <td>Training</td>\n",
              "    </tr>\n",
              "    <tr>\n",
              "      <th>2</th>\n",
              "      <td>1</td>\n",
              "      <td>18 25 49 75 89 97 100 100 101 103 105 107 107 ...</td>\n",
              "      <td>Training</td>\n",
              "    </tr>\n",
              "    <tr>\n",
              "      <th>3</th>\n",
              "      <td>1</td>\n",
              "      <td>49 53 44 48 45 41 28 28 36 38 39 64 78 86 74 6...</td>\n",
              "      <td>Training</td>\n",
              "    </tr>\n",
              "    <tr>\n",
              "      <th>4</th>\n",
              "      <td>1</td>\n",
              "      <td>0 0 0 0 0 0 0 0 0 2 0 52 190 198 213 216 220 2...</td>\n",
              "      <td>Training</td>\n",
              "    </tr>\n",
              "  </tbody>\n",
              "</table>\n",
              "</div>\n",
              "    <div class=\"colab-df-buttons\">\n",
              "\n",
              "  <div class=\"colab-df-container\">\n",
              "    <button class=\"colab-df-convert\" onclick=\"convertToInteractive('df-b1e1d1f7-e171-47ea-b541-19563571fad9')\"\n",
              "            title=\"Convert this dataframe to an interactive table.\"\n",
              "            style=\"display:none;\">\n",
              "\n",
              "  <svg xmlns=\"http://www.w3.org/2000/svg\" height=\"24px\" viewBox=\"0 -960 960 960\">\n",
              "    <path d=\"M120-120v-720h720v720H120Zm60-500h600v-160H180v160Zm220 220h160v-160H400v160Zm0 220h160v-160H400v160ZM180-400h160v-160H180v160Zm440 0h160v-160H620v160ZM180-180h160v-160H180v160Zm440 0h160v-160H620v160Z\"/>\n",
              "  </svg>\n",
              "    </button>\n",
              "\n",
              "  <style>\n",
              "    .colab-df-container {\n",
              "      display:flex;\n",
              "      gap: 12px;\n",
              "    }\n",
              "\n",
              "    .colab-df-convert {\n",
              "      background-color: #E8F0FE;\n",
              "      border: none;\n",
              "      border-radius: 50%;\n",
              "      cursor: pointer;\n",
              "      display: none;\n",
              "      fill: #1967D2;\n",
              "      height: 32px;\n",
              "      padding: 0 0 0 0;\n",
              "      width: 32px;\n",
              "    }\n",
              "\n",
              "    .colab-df-convert:hover {\n",
              "      background-color: #E2EBFA;\n",
              "      box-shadow: 0px 1px 2px rgba(60, 64, 67, 0.3), 0px 1px 3px 1px rgba(60, 64, 67, 0.15);\n",
              "      fill: #174EA6;\n",
              "    }\n",
              "\n",
              "    .colab-df-buttons div {\n",
              "      margin-bottom: 4px;\n",
              "    }\n",
              "\n",
              "    [theme=dark] .colab-df-convert {\n",
              "      background-color: #3B4455;\n",
              "      fill: #D2E3FC;\n",
              "    }\n",
              "\n",
              "    [theme=dark] .colab-df-convert:hover {\n",
              "      background-color: #434B5C;\n",
              "      box-shadow: 0px 1px 3px 1px rgba(0, 0, 0, 0.15);\n",
              "      filter: drop-shadow(0px 1px 2px rgba(0, 0, 0, 0.3));\n",
              "      fill: #FFFFFF;\n",
              "    }\n",
              "  </style>\n",
              "\n",
              "    <script>\n",
              "      const buttonEl =\n",
              "        document.querySelector('#df-b1e1d1f7-e171-47ea-b541-19563571fad9 button.colab-df-convert');\n",
              "      buttonEl.style.display =\n",
              "        google.colab.kernel.accessAllowed ? 'block' : 'none';\n",
              "\n",
              "      async function convertToInteractive(key) {\n",
              "        const element = document.querySelector('#df-b1e1d1f7-e171-47ea-b541-19563571fad9');\n",
              "        const dataTable =\n",
              "          await google.colab.kernel.invokeFunction('convertToInteractive',\n",
              "                                                    [key], {});\n",
              "        if (!dataTable) return;\n",
              "\n",
              "        const docLinkHtml = 'Like what you see? Visit the ' +\n",
              "          '<a target=\"_blank\" href=https://colab.research.google.com/notebooks/data_table.ipynb>data table notebook</a>'\n",
              "          + ' to learn more about interactive tables.';\n",
              "        element.innerHTML = '';\n",
              "        dataTable['output_type'] = 'display_data';\n",
              "        await google.colab.output.renderOutput(dataTable, element);\n",
              "        const docLink = document.createElement('div');\n",
              "        docLink.innerHTML = docLinkHtml;\n",
              "        element.appendChild(docLink);\n",
              "      }\n",
              "    </script>\n",
              "  </div>\n",
              "\n",
              "\n",
              "<div id=\"df-7c3c7755-f425-43f5-bc62-292ac64b2265\">\n",
              "  <button class=\"colab-df-quickchart\" onclick=\"quickchart('df-7c3c7755-f425-43f5-bc62-292ac64b2265')\"\n",
              "            title=\"Suggest charts.\"\n",
              "            style=\"display:none;\">\n",
              "\n",
              "<svg xmlns=\"http://www.w3.org/2000/svg\" height=\"24px\"viewBox=\"0 0 24 24\"\n",
              "     width=\"24px\">\n",
              "    <g>\n",
              "        <path d=\"M19 3H5c-1.1 0-2 .9-2 2v14c0 1.1.9 2 2 2h14c1.1 0 2-.9 2-2V5c0-1.1-.9-2-2-2zM9 17H7v-7h2v7zm4 0h-2V7h2v10zm4 0h-2v-4h2v4z\"/>\n",
              "    </g>\n",
              "</svg>\n",
              "  </button>\n",
              "\n",
              "<style>\n",
              "  .colab-df-quickchart {\n",
              "      --bg-color: #E8F0FE;\n",
              "      --fill-color: #1967D2;\n",
              "      --hover-bg-color: #E2EBFA;\n",
              "      --hover-fill-color: #174EA6;\n",
              "      --disabled-fill-color: #AAA;\n",
              "      --disabled-bg-color: #DDD;\n",
              "  }\n",
              "\n",
              "  [theme=dark] .colab-df-quickchart {\n",
              "      --bg-color: #3B4455;\n",
              "      --fill-color: #D2E3FC;\n",
              "      --hover-bg-color: #434B5C;\n",
              "      --hover-fill-color: #FFFFFF;\n",
              "      --disabled-bg-color: #3B4455;\n",
              "      --disabled-fill-color: #666;\n",
              "  }\n",
              "\n",
              "  .colab-df-quickchart {\n",
              "    background-color: var(--bg-color);\n",
              "    border: none;\n",
              "    border-radius: 50%;\n",
              "    cursor: pointer;\n",
              "    display: none;\n",
              "    fill: var(--fill-color);\n",
              "    height: 32px;\n",
              "    padding: 0;\n",
              "    width: 32px;\n",
              "  }\n",
              "\n",
              "  .colab-df-quickchart:hover {\n",
              "    background-color: var(--hover-bg-color);\n",
              "    box-shadow: 0 1px 2px rgba(60, 64, 67, 0.3), 0 1px 3px 1px rgba(60, 64, 67, 0.15);\n",
              "    fill: var(--button-hover-fill-color);\n",
              "  }\n",
              "\n",
              "  .colab-df-quickchart-complete:disabled,\n",
              "  .colab-df-quickchart-complete:disabled:hover {\n",
              "    background-color: var(--disabled-bg-color);\n",
              "    fill: var(--disabled-fill-color);\n",
              "    box-shadow: none;\n",
              "  }\n",
              "\n",
              "  .colab-df-spinner {\n",
              "    border: 2px solid var(--fill-color);\n",
              "    border-color: transparent;\n",
              "    border-bottom-color: var(--fill-color);\n",
              "    animation:\n",
              "      spin 1s steps(1) infinite;\n",
              "  }\n",
              "\n",
              "  @keyframes spin {\n",
              "    0% {\n",
              "      border-color: transparent;\n",
              "      border-bottom-color: var(--fill-color);\n",
              "      border-left-color: var(--fill-color);\n",
              "    }\n",
              "    20% {\n",
              "      border-color: transparent;\n",
              "      border-left-color: var(--fill-color);\n",
              "      border-top-color: var(--fill-color);\n",
              "    }\n",
              "    30% {\n",
              "      border-color: transparent;\n",
              "      border-left-color: var(--fill-color);\n",
              "      border-top-color: var(--fill-color);\n",
              "      border-right-color: var(--fill-color);\n",
              "    }\n",
              "    40% {\n",
              "      border-color: transparent;\n",
              "      border-right-color: var(--fill-color);\n",
              "      border-top-color: var(--fill-color);\n",
              "    }\n",
              "    60% {\n",
              "      border-color: transparent;\n",
              "      border-right-color: var(--fill-color);\n",
              "    }\n",
              "    80% {\n",
              "      border-color: transparent;\n",
              "      border-right-color: var(--fill-color);\n",
              "      border-bottom-color: var(--fill-color);\n",
              "    }\n",
              "    90% {\n",
              "      border-color: transparent;\n",
              "      border-bottom-color: var(--fill-color);\n",
              "    }\n",
              "  }\n",
              "</style>\n",
              "\n",
              "  <script>\n",
              "    async function quickchart(key) {\n",
              "      const quickchartButtonEl =\n",
              "        document.querySelector('#' + key + ' button');\n",
              "      quickchartButtonEl.disabled = true;  // To prevent multiple clicks.\n",
              "      quickchartButtonEl.classList.add('colab-df-spinner');\n",
              "      try {\n",
              "        const charts = await google.colab.kernel.invokeFunction(\n",
              "            'suggestCharts', [key], {});\n",
              "      } catch (error) {\n",
              "        console.error('Error during call to suggestCharts:', error);\n",
              "      }\n",
              "      quickchartButtonEl.classList.remove('colab-df-spinner');\n",
              "      quickchartButtonEl.classList.add('colab-df-quickchart-complete');\n",
              "    }\n",
              "    (() => {\n",
              "      let quickchartButtonEl =\n",
              "        document.querySelector('#df-7c3c7755-f425-43f5-bc62-292ac64b2265 button');\n",
              "      quickchartButtonEl.style.display =\n",
              "        google.colab.kernel.accessAllowed ? 'block' : 'none';\n",
              "    })();\n",
              "  </script>\n",
              "</div>\n",
              "    </div>\n",
              "  </div>\n"
            ]
          },
          "metadata": {},
          "execution_count": 37
        }
      ],
      "source": [
        "df = pd.read_csv('/content/drive/MyDrive/EmotionGCN/final_fer2013.csv')\n",
        "df.head()"
      ]
    },
    {
      "cell_type": "code",
      "execution_count": null,
      "metadata": {
        "id": "vHhFu8JvzQVs"
      },
      "outputs": [],
      "source": [
        "emotion_labels = {0:'anger', 1:'disgust', 2:'fear', 3:'happiness', 4: 'sadness', 5: 'surprise', 6: 'neutral'}\n",
        "Labels = [1,3,4,6]\n",
        "df = df[df.emotion.isin(Labels)]"
      ]
    },
    {
      "cell_type": "code",
      "execution_count": null,
      "metadata": {
        "colab": {
          "base_uri": "https://localhost:8080/"
        },
        "id": "zzDu86XnzV1f",
        "outputId": "df8e66be-db90-4537-c2ab-21bd179d328b"
      },
      "outputs": [
        {
          "output_type": "execute_result",
          "data": {
            "text/plain": [
              "3    7599\n",
              "6    5440\n",
              "4    4521\n",
              "1     409\n",
              "Name: emotion, dtype: int64"
            ]
          },
          "metadata": {},
          "execution_count": 39
        }
      ],
      "source": [
        "df['emotion'].value_counts()"
      ]
    },
    {
      "cell_type": "code",
      "execution_count": null,
      "metadata": {
        "colab": {
          "base_uri": "https://localhost:8080/"
        },
        "id": "F5uXIRFSzX54",
        "outputId": "d222c2ac-b1dc-4078-a913-c153cb5a2651"
      },
      "outputs": [
        {
          "output_type": "execute_result",
          "data": {
            "text/plain": [
              "(17969, 48, 48, 1)"
            ]
          },
          "metadata": {},
          "execution_count": 40
        }
      ],
      "source": [
        "img_array = df.pixels.apply(lambda x: np.array(x.split(' ')).reshape(48, 48, 1).astype('float32'))\n",
        "img_array = np.stack(img_array, axis=0)\n",
        "img_array.shape"
      ]
    },
    {
      "cell_type": "code",
      "execution_count": null,
      "metadata": {
        "colab": {
          "base_uri": "https://localhost:8080/"
        },
        "id": "6R22czyyza-G",
        "outputId": "8e31bdc7-f300-4de7-a303-7a0fc638514e"
      },
      "outputs": [
        {
          "output_type": "execute_result",
          "data": {
            "text/plain": [
              "(17969, 4)"
            ]
          },
          "metadata": {},
          "execution_count": 41
        }
      ],
      "source": [
        "LE = LabelEncoder()\n",
        "img_labels = LE.fit_transform(df['emotion'])\n",
        "img_labels = to_categorical(img_labels)\n",
        "img_labels.shape"
      ]
    },
    {
      "cell_type": "code",
      "execution_count": null,
      "metadata": {
        "colab": {
          "base_uri": "https://localhost:8080/"
        },
        "id": "859LAJ5PzdWN",
        "outputId": "dd405d20-d3e4-4259-ca52-d26f47408386"
      },
      "outputs": [
        {
          "output_type": "execute_result",
          "data": {
            "text/plain": [
              "{1: 0, 3: 1, 4: 2, 6: 3}"
            ]
          },
          "metadata": {},
          "execution_count": 42
        }
      ],
      "source": [
        "LE_label_mapping = dict(zip(LE.classes_, LE.transform(LE.classes_)))\n",
        "LE_label_mapping"
      ]
    },
    {
      "cell_type": "code",
      "execution_count": null,
      "metadata": {
        "colab": {
          "base_uri": "https://localhost:8080/"
        },
        "id": "SrTuXQ_mzpUo",
        "outputId": "a1459795-5081-4af5-c41a-b44c90d1e7db"
      },
      "outputs": [
        {
          "output_type": "execute_result",
          "data": {
            "text/plain": [
              "array([[1., 0., 0., 0.],\n",
              "       [1., 0., 0., 0.],\n",
              "       [1., 0., 0., 0.],\n",
              "       ...,\n",
              "       [0., 1., 0., 0.],\n",
              "       [0., 0., 0., 1.],\n",
              "       [0., 1., 0., 0.]], dtype=float32)"
            ]
          },
          "metadata": {},
          "execution_count": 43
        }
      ],
      "source": [
        "img_labels"
      ]
    },
    {
      "cell_type": "code",
      "execution_count": null,
      "metadata": {
        "id": "X0zAm442zs6d"
      },
      "outputs": [],
      "source": [
        "from sklearn.model_selection import train_test_split\n",
        "Xtrain, Xtest,y_train, y_test = train_test_split(img_array, img_labels,\n",
        "                                                    shuffle=True, stratify=img_labels,\n",
        "                                                    test_size=0.15, random_state=42)"
      ]
    },
    {
      "cell_type": "code",
      "execution_count": null,
      "metadata": {
        "colab": {
          "base_uri": "https://localhost:8080/"
        },
        "id": "wJ_zVpEVzvdM",
        "outputId": "90b39e4e-1472-432b-e9c9-14bb2144b551"
      },
      "outputs": [
        {
          "output_type": "execute_result",
          "data": {
            "text/plain": [
              "((15273, 48, 48, 1), (2696, 48, 48, 1), (15273, 4), (2696, 4))"
            ]
          },
          "metadata": {},
          "execution_count": 45
        }
      ],
      "source": [
        "Xtrain.shape, Xtest.shape,y_train.shape, y_test.shape"
      ]
    },
    {
      "cell_type": "code",
      "execution_count": null,
      "metadata": {
        "id": "pSwit7JTz01t"
      },
      "outputs": [],
      "source": [
        "Xt, Xval, yt, yval = train_test_split(Xtrain, y_train, shuffle=True, test_size=0.15, random_state=42)"
      ]
    },
    {
      "cell_type": "code",
      "execution_count": null,
      "metadata": {
        "colab": {
          "base_uri": "https://localhost:8080/"
        },
        "id": "BSpglVMU0EBX",
        "outputId": "90fe0c6d-e5dc-4038-9d65-d04eb672404e"
      },
      "outputs": [
        {
          "output_type": "execute_result",
          "data": {
            "text/plain": [
              "((12982, 48, 48, 1), (2291, 48, 48, 1), (12982, 4))"
            ]
          },
          "metadata": {},
          "execution_count": 47
        }
      ],
      "source": [
        "Xt.shape, Xval.shape, yt.shape"
      ]
    },
    {
      "cell_type": "code",
      "execution_count": null,
      "metadata": {
        "colab": {
          "base_uri": "https://localhost:8080/"
        },
        "id": "kk8Ppa9n0F94",
        "outputId": "e093ac2e-96fc-4551-f2a0-de9c085997b8"
      },
      "outputs": [
        {
          "output_type": "stream",
          "name": "stdout",
          "text": [
            "Collecting mtcnn\n",
            "  Downloading mtcnn-0.1.1-py3-none-any.whl (2.3 MB)\n",
            "\u001b[2K     \u001b[90m━━━━━━━━━━━━━━━━━━━━━━━━━━━━━━━━━━━━━━━━\u001b[0m \u001b[32m2.3/2.3 MB\u001b[0m \u001b[31m11.2 MB/s\u001b[0m eta \u001b[36m0:00:00\u001b[0m\n",
            "\u001b[?25hRequirement already satisfied: keras>=2.0.0 in /usr/local/lib/python3.10/dist-packages (from mtcnn) (2.14.0)\n",
            "Requirement already satisfied: opencv-python>=4.1.0 in /usr/local/lib/python3.10/dist-packages (from mtcnn) (4.8.0.76)\n",
            "Requirement already satisfied: numpy>=1.21.2 in /usr/local/lib/python3.10/dist-packages (from opencv-python>=4.1.0->mtcnn) (1.23.5)\n",
            "Installing collected packages: mtcnn\n",
            "Successfully installed mtcnn-0.1.1\n"
          ]
        }
      ],
      "source": [
        "!pip install mtcnn"
      ]
    },
    {
      "cell_type": "code",
      "execution_count": null,
      "metadata": {
        "id": "utWurCoN0IxF"
      },
      "outputs": [],
      "source": [
        "import cv2\n",
        "import dlib\n",
        "import networkx as nx\n",
        "from scipy.sparse import csr_matrix"
      ]
    },
    {
      "cell_type": "code",
      "execution_count": null,
      "metadata": {
        "id": "eUbOjON-0Lbx"
      },
      "outputs": [],
      "source": [
        "from keras.models import load_model\n",
        "from tensorflow.keras.models import Model\n",
        "cnn_model = load_model('/content/drive/MyDrive/EmotionGCN/emote_model_newarch.h5')"
      ]
    },
    {
      "cell_type": "code",
      "execution_count": null,
      "metadata": {
        "id": "m4eMc5_u0b-f"
      },
      "outputs": [],
      "source": [
        "model_cnn = Model(inputs=cnn_model.input, outputs=cnn_model.get_layer('maxpool2d_3').output)"
      ]
    },
    {
      "cell_type": "code",
      "execution_count": null,
      "metadata": {
        "id": "Gqf43WKf01Iv"
      },
      "outputs": [],
      "source": [
        "from google.colab.patches import cv2_imshow\n",
        "from scipy.spatial import cKDTree\n",
        "from sklearn.metrics.pairwise import pairwise_distances\n",
        "from mtcnn import MTCNN\n",
        "import matplotlib.pyplot as plt\n",
        "from sklearn.cluster import DBSCAN\n",
        "from scipy.spatial import distance\n",
        "from sklearn.preprocessing import MinMaxScaler"
      ]
    },
    {
      "cell_type": "code",
      "source": [
        "predictor = dlib.shape_predictor('/content/drive/MyDrive/EmotionGCN/shape_predictor_68_face_landmarks (1).dat')\n",
        "landmark_indices = [0, 1, 2, 3, 4, 5, 6, 7, 8, 9, 10, 11, 12, 13, 14, 15, 16, 17, 18, 19, 20, 21, 22, 23, 24, 25, 26, 28, 30, 31, 33, 35,\n",
        "                    36, 38, 39, 41, 42, 44, 45, 47, 48, 50, 52, 54, 55, 56, 58, 59, 61, 63, 66]\n",
        "placeholder_value = 1e-5\n",
        "placeholder_feature = np.full((1, 6, 6, 512), placeholder_value, dtype=np.float32)\n",
        "\n",
        "def extract_features(img_array , predictor, labels, landmark_indices, batch_size):\n",
        "    num_batches = (len(img_array) + batch_size-1) // batch_size\n",
        "    print(\"Number of Batches: \", num_batches)\n",
        "    detector = MTCNN()\n",
        "\n",
        "    for i in range(377, 378):\n",
        "        print(i)\n",
        "        batch_adj = []\n",
        "        batch_feat = []\n",
        "        batch_labels = labels[i*batch_size:(i+1)*batch_size]\n",
        "\n",
        "        for img in img_array[i*batch_size:(i+1)*batch_size]:\n",
        "          gray = cv2.cvtColor(img, cv2.COLOR_GRAY2BGR)\n",
        "          gray = np.array(gray)\n",
        "          gray = cv2.convertScaleAbs(gray)\n",
        "          rects = detector.detect_faces(gray)\n",
        "\n",
        "          if len(rects) == 0:\n",
        "            print(\"No faces were detected in the image.\")\n",
        "            continue\n",
        "\n",
        "          print(\"Rectangles: \", rects)\n",
        "\n",
        "          landmarks = []\n",
        "          for rect in rects:\n",
        "            x,y,w,h = rect['box']\n",
        "            dlib_rect = dlib.rectangle(x, y, x+w, y+h)\n",
        "            full_landmarks = predictor(gray, dlib_rect)\n",
        "            subset_landmarks = []\n",
        "\n",
        "            for j in landmark_indices:\n",
        "              if j < full_landmarks.num_parts:\n",
        "                x = full_landmarks.part(j).x\n",
        "                y = full_landmarks.part(j).y\n",
        "                subset_landmarks.append(dlib.point(x, y))\n",
        "            landmarks.append(dlib.full_object_detection(dlib_rect, dlib.points(subset_landmarks)))\n",
        "\n",
        "\n",
        "          features = []\n",
        "          for landmark in landmarks:\n",
        "            for k in range(51):\n",
        "              x, y = landmark.part(k).x, landmark.part(k).y\n",
        "              patch_size = 12\n",
        "              x_start = max(0, x - patch_size // 2)\n",
        "              x_end = min(gray.shape[1], x + patch_size // 2)\n",
        "              y_start = max(0, y - patch_size // 2)\n",
        "              y_end = min(gray.shape[0], y + patch_size // 2)\n",
        "\n",
        "              patch = gray[y_start:y_end, x_start:x_end]\n",
        "\n",
        "              if patch is not None and patch.size != 0:\n",
        "                #cv2.rectangle(img, (x_start, y_start), (x_end, y_end), (0, 255, 0), 2)\n",
        "                patch = cv2.resize(patch, (48, 48))\n",
        "                patch = cv2.cvtColor(patch, cv2.COLOR_BGR2GRAY)\n",
        "                patch = np.expand_dims(patch, axis=-1)\n",
        "                patch = np.expand_dims(patch, axis=0)\n",
        "                feature = model_cnn.predict(patch, verbose=0)\n",
        "                features.append(feature)\n",
        "              else:\n",
        "                print(k)\n",
        "                print(\"Skipped\")\n",
        "                features.append(placeholder_feature)\n",
        "\n",
        "              #cv2_imshow(cv2.cvtColor(img, cv2.COLOR_BGR2RGB))\n",
        "            break\n",
        "\n",
        "          node_embeddings = features[0]\n",
        "          for l in range(1, len(features)):\n",
        "            node_embeddings = np.concatenate((node_embeddings, features[l]), axis=0)\n",
        "          batch_feat.append(node_embeddings)\n",
        "\n",
        "          num_nodes, height, width, channels = node_embeddings.shape\n",
        "          flat_node_embeddings = node_embeddings.reshape(num_nodes, height * width * channels)\n",
        "          print(flat_node_embeddings.shape)\n",
        "\n",
        "          total_elements = flat_node_embeddings.size  # Total number of elements in the array\n",
        "          zero_count = total_elements - np.count_nonzero(flat_node_embeddings)\n",
        "          print(\"Number of zero values in feat:\", zero_count)\n",
        "\n",
        "          distances = pairwise_distances(flat_node_embeddings, metric='euclidean')\n",
        "          mean_distance = np.mean(distances)\n",
        "          max_dist = mean_distance*1.1\n",
        "\n",
        "          kdtree = cKDTree(flat_node_embeddings)\n",
        "\n",
        "          graph = nx.Graph()\n",
        "\n",
        "          for m in range(len(node_embeddings)):\n",
        "            graph.add_node(m, feature=node_embeddings[m])\n",
        "\n",
        "          for a in range(len(node_embeddings)):\n",
        "            indices = kdtree.query_ball_point(flat_node_embeddings[a].reshape(1, -1), r=max_dist, p=2)[0]\n",
        "            for b in indices:\n",
        "              if a != b and b < len(features) and not graph.has_edge(a, b) and distances[a, b] <= max_dist:\n",
        "                graph.add_edge(a, b, weight=distances[a, b])\n",
        "\n",
        "          A = nx.to_numpy_array(graph)\n",
        "          A = A + np.eye(A.shape[0])\n",
        "          A[A == 0] = 1e-10\n",
        "          D = np.sum(A, axis=1)\n",
        "          D_sqrt_inv = np.power(D, -0.5)\n",
        "          D_sqrt_inv[np.isinf(D_sqrt_inv)] = 0.\n",
        "          D_sqrt_inv = np.diag(D_sqrt_inv)\n",
        "          A_norm = D_sqrt_inv @ A @ D_sqrt_inv\n",
        "          print(A_norm.shape)\n",
        "          zero_count = np.count_nonzero(A_norm)\n",
        "          print(\"Number of zero values in A_norm:\", A_norm.size - zero_count)\n",
        "          batch_adj.append(A_norm)\n",
        "        batch_adj = np.stack(batch_adj, axis=0)\n",
        "        batch_feat = np.stack(batch_feat, axis=0)\n",
        "        print(\"Adjacency Batch Shape is: \", batch_adj.shape)\n",
        "        print(\"Feature Batch Shape is: \" , batch_feat.shape)\n",
        "        print(\"Batch Labels shape is: \", batch_labels.shape)\n",
        "        np.savez_compressed(f'/content/drive/MyDrive/EmotionGCN/Batches/train/batch_data_{i}.npz', batch_adj=batch_adj, batch_feat=batch_feat, batch_labels=batch_labels)\n",
        "        del batch_feat, batch_adj, batch_labels, node_embeddings, features, landmarks, A, graph, flat_node_embeddings, distances, kdtree, subset_landmarks, rects, gray, D,D_sqrt_inv, indices, patch, full_landmarks"
      ],
      "metadata": {
        "id": "7Jw2jsxmwz00"
      },
      "execution_count": null,
      "outputs": []
    },
    {
      "cell_type": "code",
      "execution_count": null,
      "metadata": {
        "colab": {
          "base_uri": "https://localhost:8080/"
        },
        "id": "2GUO4xUCs5Qz",
        "outputId": "a88218e7-fcde-404b-a299-5bb8efeadda7"
      },
      "outputs": [
        {
          "output_type": "stream",
          "name": "stdout",
          "text": [
            "Number of Batches:  406\n",
            "377\n",
            "1/1 [==============================] - 3s 3s/step\n",
            "1/1 [==============================] - 0s 213ms/step\n",
            "1/1 [==============================] - 0s 144ms/step\n",
            "1/1 [==============================] - 0s 180ms/step\n",
            "1/1 [==============================] - 0s 236ms/step\n",
            "Rectangles:  [{'box': [0, 0, 47, 55], 'confidence': 0.9607134461402893, 'keypoints': {'left_eye': (9, 11), 'right_eye': (32, 8), 'nose': (21, 19), 'mouth_left': (15, 37), 'mouth_right': (33, 36)}}]\n"
          ]
        },
        {
          "output_type": "stream",
          "name": "stderr",
          "text": [
            "WARNING:tensorflow:5 out of the last 6 calls to <function Model.make_predict_function.<locals>.predict_function at 0x7894a3fe16c0> triggered tf.function retracing. Tracing is expensive and the excessive number of tracings could be due to (1) creating @tf.function repeatedly in a loop, (2) passing tensors with different shapes, (3) passing Python objects instead of tensors. For (1), please define your @tf.function outside of the loop. For (2), @tf.function has reduce_retracing=True option that can avoid unnecessary retracing. For (3), please refer to https://www.tensorflow.org/guide/function#controlling_retracing and https://www.tensorflow.org/api_docs/python/tf/function for  more details.\n"
          ]
        },
        {
          "output_type": "stream",
          "name": "stdout",
          "text": [
            "(51, 18432)\n",
            "Number of zero values in feat: 0\n",
            "(51, 51)\n",
            "Number of zero values in A_norm: 0\n",
            "1/1 [==============================] - 0s 28ms/step\n",
            "1/1 [==============================] - 0s 28ms/step\n",
            "1/1 [==============================] - 0s 27ms/step\n",
            "1/1 [==============================] - 0s 137ms/step\n",
            "1/1 [==============================] - 0s 184ms/step\n",
            "Rectangles:  [{'box': [3, 0, 41, 48], 'confidence': 0.8937321901321411, 'keypoints': {'left_eye': (16, 18), 'right_eye': (34, 18), 'nose': (26, 30), 'mouth_left': (17, 35), 'mouth_right': (33, 36)}}]\n",
            "(51, 18432)\n",
            "Number of zero values in feat: 0\n",
            "(51, 51)\n",
            "Number of zero values in A_norm: 0\n",
            "1/1 [==============================] - 0s 19ms/step\n",
            "1/1 [==============================] - 0s 16ms/step\n",
            "1/1 [==============================] - 0s 18ms/step\n",
            "1/1 [==============================] - 0s 110ms/step\n",
            "1/1 [==============================] - 0s 17ms/step\n",
            "Rectangles:  [{'box': [4, 0, 44, 50], 'confidence': 0.9965645670890808, 'keypoints': {'left_eye': (14, 19), 'right_eye': (34, 14), 'nose': (24, 30), 'mouth_left': (19, 39), 'mouth_right': (38, 34)}}]\n",
            "(51, 18432)\n",
            "Number of zero values in feat: 0\n",
            "(51, 51)\n",
            "Number of zero values in A_norm: 0\n",
            "1/1 [==============================] - 0s 24ms/step\n",
            "1/1 [==============================] - 0s 16ms/step\n",
            "1/1 [==============================] - 0s 16ms/step\n",
            "1/1 [==============================] - 0s 27ms/step\n",
            "1/1 [==============================] - 0s 18ms/step\n",
            "Rectangles:  [{'box': [3, 0, 43, 48], 'confidence': 0.9335772395133972, 'keypoints': {'left_eye': (12, 17), 'right_eye': (32, 16), 'nose': (21, 29), 'mouth_left': (14, 36), 'mouth_right': (32, 35)}}]\n",
            "(51, 18432)\n",
            "Number of zero values in feat: 0\n",
            "(51, 51)\n",
            "Number of zero values in A_norm: 0\n",
            "1/1 [==============================] - 0s 32ms/step\n",
            "1/1 [==============================] - 0s 26ms/step\n",
            "1/1 [==============================] - 0s 25ms/step\n",
            "1/1 [==============================] - 0s 129ms/step\n",
            "1/1 [==============================] - 0s 25ms/step\n",
            "Rectangles:  [{'box': [7, 0, 35, 44], 'confidence': 0.9894111752510071, 'keypoints': {'left_eye': (16, 15), 'right_eye': (33, 19), 'nose': (21, 28), 'mouth_left': (12, 28), 'mouth_right': (30, 33)}}]\n",
            "(51, 18432)\n",
            "Number of zero values in feat: 0\n",
            "(51, 51)\n",
            "Number of zero values in A_norm: 0\n",
            "1/1 [==============================] - 0s 24ms/step\n",
            "1/1 [==============================] - 0s 20ms/step\n",
            "1/1 [==============================] - 0s 19ms/step\n",
            "1/1 [==============================] - 0s 115ms/step\n",
            "1/1 [==============================] - 0s 19ms/step\n",
            "Rectangles:  [{'box': [4, 0, 37, 49], 'confidence': 0.9987174272537231, 'keypoints': {'left_eye': (15, 16), 'right_eye': (33, 19), 'nose': (24, 32), 'mouth_left': (11, 33), 'mouth_right': (30, 36)}}]\n",
            "(51, 18432)\n",
            "Number of zero values in feat: 0\n",
            "(51, 51)\n",
            "Number of zero values in A_norm: 0\n",
            "1/1 [==============================] - 0s 18ms/step\n",
            "1/1 [==============================] - 0s 16ms/step\n",
            "1/1 [==============================] - 0s 21ms/step\n",
            "1/1 [==============================] - 0s 19ms/step\n",
            "1/1 [==============================] - 0s 18ms/step\n",
            "Rectangles:  [{'box': [9, 0, 36, 54], 'confidence': 0.9045025110244751, 'keypoints': {'left_eye': (17, 20), 'right_eye': (34, 18), 'nose': (24, 27), 'mouth_left': (20, 40), 'mouth_right': (33, 39)}}]\n",
            "(51, 18432)\n",
            "Number of zero values in feat: 0\n",
            "(51, 51)\n",
            "Number of zero values in A_norm: 0\n",
            "1/1 [==============================] - 0s 20ms/step\n",
            "1/1 [==============================] - 0s 17ms/step\n",
            "1/1 [==============================] - 0s 16ms/step\n",
            "1/1 [==============================] - 0s 114ms/step\n",
            "1/1 [==============================] - 0s 17ms/step\n",
            "Rectangles:  [{'box': [4, 0, 41, 49], 'confidence': 0.9962407350540161, 'keypoints': {'left_eye': (17, 18), 'right_eye': (35, 16), 'nose': (29, 30), 'mouth_left': (19, 37), 'mouth_right': (37, 35)}}]\n",
            "(51, 18432)\n",
            "Number of zero values in feat: 0\n",
            "(51, 51)\n",
            "Number of zero values in A_norm: 0\n",
            "1/1 [==============================] - 0s 20ms/step\n",
            "1/1 [==============================] - 0s 15ms/step\n",
            "1/1 [==============================] - 0s 17ms/step\n",
            "1/1 [==============================] - 0s 17ms/step\n",
            "1/1 [==============================] - 0s 16ms/step\n",
            "Rectangles:  [{'box': [7, 0, 40, 50], 'confidence': 0.9997064471244812, 'keypoints': {'left_eye': (15, 18), 'right_eye': (34, 19), 'nose': (21, 32), 'mouth_left': (16, 39), 'mouth_right': (30, 41)}}]\n",
            "(51, 18432)\n",
            "Number of zero values in feat: 0\n",
            "(51, 51)\n",
            "Number of zero values in A_norm: 0\n",
            "1/1 [==============================] - 0s 17ms/step\n",
            "1/1 [==============================] - 0s 17ms/step\n",
            "1/1 [==============================] - 0s 19ms/step\n",
            "1/1 [==============================] - 0s 18ms/step\n",
            "1/1 [==============================] - 0s 20ms/step\n",
            "Rectangles:  [{'box': [4, 1, 35, 44], 'confidence': 0.9999431371688843, 'keypoints': {'left_eye': (16, 18), 'right_eye': (33, 18), 'nose': (25, 27), 'mouth_left': (17, 35), 'mouth_right': (31, 35)}}]\n",
            "(51, 18432)\n",
            "Number of zero values in feat: 0\n",
            "(51, 51)\n",
            "Number of zero values in A_norm: 0\n",
            "1/1 [==============================] - 0s 16ms/step\n",
            "1/1 [==============================] - 0s 17ms/step\n",
            "1/1 [==============================] - 0s 16ms/step\n",
            "1/1 [==============================] - 0s 115ms/step\n",
            "1/1 [==============================] - 0s 146ms/step\n",
            "Rectangles:  [{'box': [6, 8, 27, 34], 'confidence': 0.9998682737350464, 'keypoints': {'left_eye': (10, 20), 'right_eye': (21, 22), 'nose': (11, 29), 'mouth_left': (10, 34), 'mouth_right': (19, 36)}}]\n",
            "(51, 18432)\n",
            "Number of zero values in feat: 0\n",
            "(51, 51)\n",
            "Number of zero values in A_norm: 0\n",
            "1/1 [==============================] - 0s 21ms/step\n",
            "1/1 [==============================] - 0s 16ms/step\n",
            "1/1 [==============================] - 0s 15ms/step\n",
            "1/1 [==============================] - 0s 16ms/step\n",
            "1/1 [==============================] - 0s 23ms/step\n",
            "Rectangles:  [{'box': [9, 2, 34, 43], 'confidence': 0.9997848868370056, 'keypoints': {'left_eye': (16, 18), 'right_eye': (32, 19), 'nose': (20, 24), 'mouth_left': (15, 34), 'mouth_right': (28, 35)}}]\n",
            "(51, 18432)\n",
            "Number of zero values in feat: 0\n",
            "(51, 51)\n",
            "Number of zero values in A_norm: 0\n",
            "1/1 [==============================] - 0s 26ms/step\n",
            "1/1 [==============================] - 0s 26ms/step\n",
            "1/1 [==============================] - 0s 26ms/step\n",
            "1/1 [==============================] - 0s 26ms/step\n",
            "1/1 [==============================] - 0s 26ms/step\n",
            "Rectangles:  [{'box': [7, 0, 40, 50], 'confidence': 0.9856333136558533, 'keypoints': {'left_eye': (15, 18), 'right_eye': (33, 16), 'nose': (23, 31), 'mouth_left': (19, 40), 'mouth_right': (35, 38)}}]\n",
            "(51, 18432)\n",
            "Number of zero values in feat: 0\n",
            "(51, 51)\n",
            "Number of zero values in A_norm: 0\n",
            "1/1 [==============================] - 0s 17ms/step\n",
            "1/1 [==============================] - 0s 16ms/step\n",
            "1/1 [==============================] - 0s 20ms/step\n",
            "1/1 [==============================] - 0s 16ms/step\n",
            "1/1 [==============================] - 0s 17ms/step\n",
            "Rectangles:  [{'box': [2, 0, 37, 48], 'confidence': 0.9983661770820618, 'keypoints': {'left_eye': (14, 17), 'right_eye': (32, 17), 'nose': (25, 27), 'mouth_left': (18, 36), 'mouth_right': (31, 36)}}]\n",
            "(51, 18432)\n",
            "Number of zero values in feat: 0\n",
            "(51, 51)\n",
            "Number of zero values in A_norm: 0\n",
            "1/1 [==============================] - 0s 25ms/step\n",
            "1/1 [==============================] - 0s 18ms/step\n",
            "1/1 [==============================] - 0s 15ms/step\n",
            "1/1 [==============================] - 0s 111ms/step\n",
            "1/1 [==============================] - 0s 18ms/step\n",
            "Rectangles:  [{'box': [3, 0, 47, 50], 'confidence': 0.9401282072067261, 'keypoints': {'left_eye': (18, 13), 'right_eye': (41, 13), 'nose': (31, 28), 'mouth_left': (22, 39), 'mouth_right': (39, 39)}}]\n",
            "(51, 18432)\n",
            "Number of zero values in feat: 0\n",
            "(51, 51)\n",
            "Number of zero values in A_norm: 0\n",
            "1/1 [==============================] - 0s 19ms/step\n",
            "1/1 [==============================] - 0s 16ms/step\n",
            "1/1 [==============================] - 0s 16ms/step\n",
            "1/1 [==============================] - 0s 17ms/step\n",
            "1/1 [==============================] - 0s 16ms/step\n",
            "Rectangles:  [{'box': [5, 4, 39, 44], 'confidence': 0.9997561573982239, 'keypoints': {'left_eye': (15, 20), 'right_eye': (32, 20), 'nose': (23, 30), 'mouth_left': (17, 39), 'mouth_right': (30, 39)}}]\n",
            "(51, 18432)\n",
            "Number of zero values in feat: 0\n",
            "(51, 51)\n",
            "Number of zero values in A_norm: 0\n",
            "1/1 [==============================] - 0s 35ms/step\n",
            "1/1 [==============================] - 0s 42ms/step\n",
            "1/1 [==============================] - 0s 39ms/step\n",
            "1/1 [==============================] - 0s 39ms/step\n",
            "1/1 [==============================] - 0s 263ms/step\n",
            "Rectangles:  [{'box': [6, 6, 26, 30], 'confidence': 0.9998005032539368, 'keypoints': {'left_eye': (10, 17), 'right_eye': (20, 17), 'nose': (12, 24), 'mouth_left': (11, 30), 'mouth_right': (19, 30)}}]\n",
            "(51, 18432)\n",
            "Number of zero values in feat: 0\n",
            "(51, 51)\n",
            "Number of zero values in A_norm: 0\n",
            "1/1 [==============================] - 0s 19ms/step\n",
            "1/1 [==============================] - 0s 18ms/step\n",
            "1/1 [==============================] - 0s 18ms/step\n",
            "1/1 [==============================] - 0s 17ms/step\n",
            "1/1 [==============================] - 0s 19ms/step\n",
            "Rectangles:  [{'box': [5, 1, 39, 51], 'confidence': 0.9997517466545105, 'keypoints': {'left_eye': (16, 22), 'right_eye': (36, 23), 'nose': (25, 32), 'mouth_left': (16, 40), 'mouth_right': (33, 41)}}]\n",
            "(51, 18432)\n",
            "Number of zero values in feat: 0\n",
            "(51, 51)\n",
            "Number of zero values in A_norm: 0\n",
            "1/1 [==============================] - 0s 21ms/step\n",
            "1/1 [==============================] - 0s 22ms/step\n",
            "1/1 [==============================] - 0s 17ms/step\n",
            "1/1 [==============================] - 0s 17ms/step\n",
            "1/1 [==============================] - 0s 17ms/step\n",
            "Rectangles:  [{'box': [2, 0, 41, 49], 'confidence': 0.9868209958076477, 'keypoints': {'left_eye': (14, 15), 'right_eye': (34, 18), 'nose': (23, 31), 'mouth_left': (12, 33), 'mouth_right': (31, 36)}}]\n",
            "(51, 18432)\n",
            "Number of zero values in feat: 0\n",
            "(51, 51)\n",
            "Number of zero values in A_norm: 0\n",
            "1/1 [==============================] - 0s 27ms/step\n",
            "1/1 [==============================] - 0s 26ms/step\n",
            "1/1 [==============================] - 0s 26ms/step\n",
            "1/1 [==============================] - 0s 25ms/step\n",
            "1/1 [==============================] - 0s 26ms/step\n",
            "Rectangles:  [{'box': [6, 0, 44, 52], 'confidence': 0.9958428740501404, 'keypoints': {'left_eye': (26, 16), 'right_eye': (41, 25), 'nose': (33, 31), 'mouth_left': (19, 35), 'mouth_right': (30, 42)}}]\n",
            "(51, 18432)\n",
            "Number of zero values in feat: 0\n",
            "(51, 51)\n",
            "Number of zero values in A_norm: 0\n",
            "1/1 [==============================] - 0s 20ms/step\n",
            "1/1 [==============================] - 0s 19ms/step\n",
            "1/1 [==============================] - 0s 16ms/step\n",
            "1/1 [==============================] - 0s 16ms/step\n",
            "1/1 [==============================] - 0s 16ms/step\n",
            "Rectangles:  [{'box': [7, 2, 29, 39], 'confidence': 0.875411868095398, 'keypoints': {'left_eye': (11, 15), 'right_eye': (24, 14), 'nose': (14, 21), 'mouth_left': (12, 30), 'mouth_right': (24, 29)}}]\n",
            "(51, 18432)\n",
            "Number of zero values in feat: 0\n",
            "(51, 51)\n",
            "Number of zero values in A_norm: 0\n",
            "1/1 [==============================] - 0s 19ms/step\n",
            "1/1 [==============================] - 0s 16ms/step\n",
            "1/1 [==============================] - 0s 17ms/step\n",
            "1/1 [==============================] - 0s 18ms/step\n",
            "1/1 [==============================] - 0s 18ms/step\n",
            "Rectangles:  [{'box': [1, 0, 38, 53], 'confidence': 0.9991280436515808, 'keypoints': {'left_eye': (15, 20), 'right_eye': (32, 18), 'nose': (27, 29), 'mouth_left': (16, 38), 'mouth_right': (33, 36)}}]\n",
            "(51, 18432)\n",
            "Number of zero values in feat: 0\n",
            "(51, 51)\n",
            "Number of zero values in A_norm: 0\n",
            "1/1 [==============================] - 0s 20ms/step\n",
            "1/1 [==============================] - 0s 17ms/step\n",
            "1/1 [==============================] - 0s 16ms/step\n",
            "1/1 [==============================] - 0s 16ms/step\n",
            "1/1 [==============================] - 0s 16ms/step\n",
            "Rectangles:  [{'box': [2, 0, 35, 46], 'confidence': 0.9983589053153992, 'keypoints': {'left_eye': (15, 19), 'right_eye': (32, 18), 'nose': (27, 30), 'mouth_left': (17, 38), 'mouth_right': (28, 37)}}]\n",
            "(51, 18432)\n",
            "Number of zero values in feat: 0\n",
            "(51, 51)\n",
            "Number of zero values in A_norm: 0\n",
            "1/1 [==============================] - 0s 27ms/step\n",
            "1/1 [==============================] - 0s 25ms/step\n",
            "1/1 [==============================] - 0s 26ms/step\n",
            "1/1 [==============================] - 0s 26ms/step\n",
            "1/1 [==============================] - 0s 29ms/step\n",
            "Rectangles:  [{'box': [3, 0, 40, 49], 'confidence': 0.9995253086090088, 'keypoints': {'left_eye': (13, 19), 'right_eye': (33, 17), 'nose': (24, 31), 'mouth_left': (17, 40), 'mouth_right': (31, 39)}}]\n",
            "(51, 18432)\n",
            "Number of zero values in feat: 0\n",
            "(51, 51)\n",
            "Number of zero values in A_norm: 0\n",
            "1/1 [==============================] - 0s 20ms/step\n",
            "1/1 [==============================] - 0s 19ms/step\n",
            "1/1 [==============================] - 0s 17ms/step\n",
            "1/1 [==============================] - 0s 17ms/step\n",
            "1/1 [==============================] - 0s 19ms/step\n",
            "Rectangles:  [{'box': [1, 0, 42, 48], 'confidence': 0.9974551796913147, 'keypoints': {'left_eye': (13, 21), 'right_eye': (31, 15), 'nose': (25, 28), 'mouth_left': (20, 38), 'mouth_right': (35, 33)}}]\n",
            "(51, 18432)\n",
            "Number of zero values in feat: 0\n",
            "(51, 51)\n",
            "Number of zero values in A_norm: 0\n",
            "1/1 [==============================] - 0s 21ms/step\n",
            "1/1 [==============================] - 0s 16ms/step\n",
            "1/1 [==============================] - 0s 17ms/step\n",
            "1/1 [==============================] - 0s 20ms/step\n",
            "1/1 [==============================] - 0s 18ms/step\n",
            "Rectangles:  [{'box': [4, 0, 44, 49], 'confidence': 0.9881121516227722, 'keypoints': {'left_eye': (14, 17), 'right_eye': (35, 17), 'nose': (23, 32), 'mouth_left': (17, 40), 'mouth_right': (33, 39)}}]\n",
            "(51, 18432)\n",
            "Number of zero values in feat: 0\n",
            "(51, 51)\n",
            "Number of zero values in A_norm: 0\n",
            "1/1 [==============================] - 0s 26ms/step\n",
            "1/1 [==============================] - 0s 28ms/step\n",
            "1/1 [==============================] - 0s 25ms/step\n",
            "1/1 [==============================] - 0s 27ms/step\n",
            "1/1 [==============================] - 0s 25ms/step\n",
            "Rectangles:  [{'box': [5, 3, 36, 42], 'confidence': 0.9982125759124756, 'keypoints': {'left_eye': (15, 19), 'right_eye': (32, 16), 'nose': (25, 28), 'mouth_left': (18, 36), 'mouth_right': (34, 34)}}]\n",
            "(51, 18432)\n",
            "Number of zero values in feat: 0\n",
            "(51, 51)\n",
            "Number of zero values in A_norm: 0\n",
            "1/1 [==============================] - 0s 31ms/step\n",
            "1/1 [==============================] - 0s 30ms/step\n",
            "1/1 [==============================] - 0s 32ms/step\n",
            "1/1 [==============================] - 0s 30ms/step\n",
            "1/1 [==============================] - 0s 40ms/step\n",
            "Rectangles:  [{'box': [2, 0, 46, 52], 'confidence': 0.9993103742599487, 'keypoints': {'left_eye': (16, 12), 'right_eye': (36, 12), 'nose': (26, 20), 'mouth_left': (18, 33), 'mouth_right': (33, 34)}}]\n",
            "(51, 18432)\n",
            "Number of zero values in feat: 0\n",
            "(51, 51)\n",
            "Number of zero values in A_norm: 0\n",
            "1/1 [==============================] - 0s 23ms/step\n",
            "1/1 [==============================] - 0s 23ms/step\n",
            "1/1 [==============================] - 0s 26ms/step\n",
            "1/1 [==============================] - 0s 25ms/step\n",
            "1/1 [==============================] - 0s 21ms/step\n",
            "Rectangles:  [{'box': [4, 0, 36, 47], 'confidence': 0.9992693066596985, 'keypoints': {'left_eye': (15, 20), 'right_eye': (32, 18), 'nose': (26, 30), 'mouth_left': (16, 36), 'mouth_right': (33, 34)}}]\n",
            "(51, 18432)\n",
            "Number of zero values in feat: 0\n",
            "(51, 51)\n",
            "Number of zero values in A_norm: 0\n",
            "1/1 [==============================] - 0s 31ms/step\n",
            "1/1 [==============================] - 0s 32ms/step\n",
            "1/1 [==============================] - 0s 25ms/step\n",
            "1/1 [==============================] - 0s 31ms/step\n",
            "1/1 [==============================] - 0s 179ms/step\n",
            "Rectangles:  [{'box': [5, 4, 34, 43], 'confidence': 0.9965884685516357, 'keypoints': {'left_eye': (13, 20), 'right_eye': (29, 21), 'nose': (20, 28), 'mouth_left': (15, 37), 'mouth_right': (26, 38)}}]\n",
            "(51, 18432)\n",
            "Number of zero values in feat: 0\n",
            "(51, 51)\n",
            "Number of zero values in A_norm: 0\n",
            "1/1 [==============================] - 0s 33ms/step\n",
            "1/1 [==============================] - 0s 29ms/step\n",
            "1/1 [==============================] - 0s 25ms/step\n",
            "1/1 [==============================] - 0s 29ms/step\n",
            "1/1 [==============================] - 0s 17ms/step\n",
            "Rectangles:  [{'box': [6, 1, 37, 47], 'confidence': 0.9903208613395691, 'keypoints': {'left_eye': (16, 20), 'right_eye': (33, 20), 'nose': (24, 27), 'mouth_left': (18, 39), 'mouth_right': (31, 38)}}]\n",
            "(51, 18432)\n",
            "Number of zero values in feat: 0\n",
            "(51, 51)\n",
            "Number of zero values in A_norm: 0\n",
            "1/1 [==============================] - 0s 20ms/step\n",
            "1/1 [==============================] - 0s 16ms/step\n",
            "1/1 [==============================] - 0s 16ms/step\n",
            "1/1 [==============================] - 0s 18ms/step\n",
            "1/1 [==============================] - 0s 18ms/step\n",
            "Rectangles:  [{'box': [0, 0, 40, 52], 'confidence': 0.9998713731765747, 'keypoints': {'left_eye': (14, 18), 'right_eye': (34, 22), 'nose': (25, 29), 'mouth_left': (12, 38), 'mouth_right': (30, 41)}}]\n",
            "(51, 18432)\n",
            "Number of zero values in feat: 0\n",
            "(51, 51)\n",
            "Number of zero values in A_norm: 0\n",
            "Adjacency Batch Shape is:  (32, 51, 51)\n",
            "Feature Batch Shape is:  (32, 51, 6, 6, 512)\n",
            "Batch Labels shape is:  (32, 4)\n"
          ]
        }
      ],
      "source": [
        "extract_features(Xt , predictor, yt, landmark_indices, 32)"
      ]
    },
    {
      "cell_type": "markdown",
      "source": [
        "## Model Architecture"
      ],
      "metadata": {
        "id": "sOVUatao98WT"
      }
    },
    {
      "cell_type": "code",
      "source": [
        "!pip install spektral"
      ],
      "metadata": {
        "colab": {
          "base_uri": "https://localhost:8080/"
        },
        "id": "KUSvAGC4ioJB",
        "outputId": "f92640c5-358b-41de-b9f9-be535c4c6d3b"
      },
      "execution_count": null,
      "outputs": [
        {
          "output_type": "stream",
          "name": "stdout",
          "text": [
            "Collecting spektral\n",
            "  Downloading spektral-1.3.0-py3-none-any.whl (140 kB)\n",
            "\u001b[2K     \u001b[90m━━━━━━━━━━━━━━━━━━━━━━━━━━━━━━━━━━━━━━━━\u001b[0m \u001b[32m140.1/140.1 kB\u001b[0m \u001b[31m2.6 MB/s\u001b[0m eta \u001b[36m0:00:00\u001b[0m\n",
            "\u001b[?25hRequirement already satisfied: joblib in /usr/local/lib/python3.10/dist-packages (from spektral) (1.3.2)\n",
            "Requirement already satisfied: lxml in /usr/local/lib/python3.10/dist-packages (from spektral) (4.9.3)\n",
            "Requirement already satisfied: networkx in /usr/local/lib/python3.10/dist-packages (from spektral) (3.2)\n",
            "Requirement already satisfied: numpy in /usr/local/lib/python3.10/dist-packages (from spektral) (1.23.5)\n",
            "Requirement already satisfied: pandas in /usr/local/lib/python3.10/dist-packages (from spektral) (1.5.3)\n",
            "Requirement already satisfied: requests in /usr/local/lib/python3.10/dist-packages (from spektral) (2.31.0)\n",
            "Requirement already satisfied: scikit-learn in /usr/local/lib/python3.10/dist-packages (from spektral) (1.2.2)\n",
            "Requirement already satisfied: scipy in /usr/local/lib/python3.10/dist-packages (from spektral) (1.11.3)\n",
            "Requirement already satisfied: tqdm in /usr/local/lib/python3.10/dist-packages (from spektral) (4.66.1)\n",
            "Requirement already satisfied: tensorflow>=2.2.0 in /usr/local/lib/python3.10/dist-packages (from spektral) (2.14.0)\n",
            "Requirement already satisfied: absl-py>=1.0.0 in /usr/local/lib/python3.10/dist-packages (from tensorflow>=2.2.0->spektral) (1.4.0)\n",
            "Requirement already satisfied: astunparse>=1.6.0 in /usr/local/lib/python3.10/dist-packages (from tensorflow>=2.2.0->spektral) (1.6.3)\n",
            "Requirement already satisfied: flatbuffers>=23.5.26 in /usr/local/lib/python3.10/dist-packages (from tensorflow>=2.2.0->spektral) (23.5.26)\n",
            "Requirement already satisfied: gast!=0.5.0,!=0.5.1,!=0.5.2,>=0.2.1 in /usr/local/lib/python3.10/dist-packages (from tensorflow>=2.2.0->spektral) (0.5.4)\n",
            "Requirement already satisfied: google-pasta>=0.1.1 in /usr/local/lib/python3.10/dist-packages (from tensorflow>=2.2.0->spektral) (0.2.0)\n",
            "Requirement already satisfied: h5py>=2.9.0 in /usr/local/lib/python3.10/dist-packages (from tensorflow>=2.2.0->spektral) (3.9.0)\n",
            "Requirement already satisfied: libclang>=13.0.0 in /usr/local/lib/python3.10/dist-packages (from tensorflow>=2.2.0->spektral) (16.0.6)\n",
            "Requirement already satisfied: ml-dtypes==0.2.0 in /usr/local/lib/python3.10/dist-packages (from tensorflow>=2.2.0->spektral) (0.2.0)\n",
            "Requirement already satisfied: opt-einsum>=2.3.2 in /usr/local/lib/python3.10/dist-packages (from tensorflow>=2.2.0->spektral) (3.3.0)\n",
            "Requirement already satisfied: packaging in /usr/local/lib/python3.10/dist-packages (from tensorflow>=2.2.0->spektral) (23.2)\n",
            "Requirement already satisfied: protobuf!=4.21.0,!=4.21.1,!=4.21.2,!=4.21.3,!=4.21.4,!=4.21.5,<5.0.0dev,>=3.20.3 in /usr/local/lib/python3.10/dist-packages (from tensorflow>=2.2.0->spektral) (3.20.3)\n",
            "Requirement already satisfied: setuptools in /usr/local/lib/python3.10/dist-packages (from tensorflow>=2.2.0->spektral) (67.7.2)\n",
            "Requirement already satisfied: six>=1.12.0 in /usr/local/lib/python3.10/dist-packages (from tensorflow>=2.2.0->spektral) (1.16.0)\n",
            "Requirement already satisfied: termcolor>=1.1.0 in /usr/local/lib/python3.10/dist-packages (from tensorflow>=2.2.0->spektral) (2.3.0)\n",
            "Requirement already satisfied: typing-extensions>=3.6.6 in /usr/local/lib/python3.10/dist-packages (from tensorflow>=2.2.0->spektral) (4.5.0)\n",
            "Requirement already satisfied: wrapt<1.15,>=1.11.0 in /usr/local/lib/python3.10/dist-packages (from tensorflow>=2.2.0->spektral) (1.14.1)\n",
            "Requirement already satisfied: tensorflow-io-gcs-filesystem>=0.23.1 in /usr/local/lib/python3.10/dist-packages (from tensorflow>=2.2.0->spektral) (0.34.0)\n",
            "Requirement already satisfied: grpcio<2.0,>=1.24.3 in /usr/local/lib/python3.10/dist-packages (from tensorflow>=2.2.0->spektral) (1.59.0)\n",
            "Requirement already satisfied: tensorboard<2.15,>=2.14 in /usr/local/lib/python3.10/dist-packages (from tensorflow>=2.2.0->spektral) (2.14.1)\n",
            "Requirement already satisfied: tensorflow-estimator<2.15,>=2.14.0 in /usr/local/lib/python3.10/dist-packages (from tensorflow>=2.2.0->spektral) (2.14.0)\n",
            "Requirement already satisfied: keras<2.15,>=2.14.0 in /usr/local/lib/python3.10/dist-packages (from tensorflow>=2.2.0->spektral) (2.14.0)\n",
            "Requirement already satisfied: python-dateutil>=2.8.1 in /usr/local/lib/python3.10/dist-packages (from pandas->spektral) (2.8.2)\n",
            "Requirement already satisfied: pytz>=2020.1 in /usr/local/lib/python3.10/dist-packages (from pandas->spektral) (2023.3.post1)\n",
            "Requirement already satisfied: charset-normalizer<4,>=2 in /usr/local/lib/python3.10/dist-packages (from requests->spektral) (3.3.1)\n",
            "Requirement already satisfied: idna<4,>=2.5 in /usr/local/lib/python3.10/dist-packages (from requests->spektral) (3.4)\n",
            "Requirement already satisfied: urllib3<3,>=1.21.1 in /usr/local/lib/python3.10/dist-packages (from requests->spektral) (2.0.7)\n",
            "Requirement already satisfied: certifi>=2017.4.17 in /usr/local/lib/python3.10/dist-packages (from requests->spektral) (2023.7.22)\n",
            "Requirement already satisfied: threadpoolctl>=2.0.0 in /usr/local/lib/python3.10/dist-packages (from scikit-learn->spektral) (3.2.0)\n",
            "Requirement already satisfied: wheel<1.0,>=0.23.0 in /usr/local/lib/python3.10/dist-packages (from astunparse>=1.6.0->tensorflow>=2.2.0->spektral) (0.41.2)\n",
            "Requirement already satisfied: google-auth<3,>=1.6.3 in /usr/local/lib/python3.10/dist-packages (from tensorboard<2.15,>=2.14->tensorflow>=2.2.0->spektral) (2.17.3)\n",
            "Requirement already satisfied: google-auth-oauthlib<1.1,>=0.5 in /usr/local/lib/python3.10/dist-packages (from tensorboard<2.15,>=2.14->tensorflow>=2.2.0->spektral) (1.0.0)\n",
            "Requirement already satisfied: markdown>=2.6.8 in /usr/local/lib/python3.10/dist-packages (from tensorboard<2.15,>=2.14->tensorflow>=2.2.0->spektral) (3.5)\n",
            "Requirement already satisfied: tensorboard-data-server<0.8.0,>=0.7.0 in /usr/local/lib/python3.10/dist-packages (from tensorboard<2.15,>=2.14->tensorflow>=2.2.0->spektral) (0.7.2)\n",
            "Requirement already satisfied: werkzeug>=1.0.1 in /usr/local/lib/python3.10/dist-packages (from tensorboard<2.15,>=2.14->tensorflow>=2.2.0->spektral) (3.0.1)\n",
            "Requirement already satisfied: cachetools<6.0,>=2.0.0 in /usr/local/lib/python3.10/dist-packages (from google-auth<3,>=1.6.3->tensorboard<2.15,>=2.14->tensorflow>=2.2.0->spektral) (5.3.2)\n",
            "Requirement already satisfied: pyasn1-modules>=0.2.1 in /usr/local/lib/python3.10/dist-packages (from google-auth<3,>=1.6.3->tensorboard<2.15,>=2.14->tensorflow>=2.2.0->spektral) (0.3.0)\n",
            "Requirement already satisfied: rsa<5,>=3.1.4 in /usr/local/lib/python3.10/dist-packages (from google-auth<3,>=1.6.3->tensorboard<2.15,>=2.14->tensorflow>=2.2.0->spektral) (4.9)\n",
            "Requirement already satisfied: requests-oauthlib>=0.7.0 in /usr/local/lib/python3.10/dist-packages (from google-auth-oauthlib<1.1,>=0.5->tensorboard<2.15,>=2.14->tensorflow>=2.2.0->spektral) (1.3.1)\n",
            "Requirement already satisfied: MarkupSafe>=2.1.1 in /usr/local/lib/python3.10/dist-packages (from werkzeug>=1.0.1->tensorboard<2.15,>=2.14->tensorflow>=2.2.0->spektral) (2.1.3)\n",
            "Requirement already satisfied: pyasn1<0.6.0,>=0.4.6 in /usr/local/lib/python3.10/dist-packages (from pyasn1-modules>=0.2.1->google-auth<3,>=1.6.3->tensorboard<2.15,>=2.14->tensorflow>=2.2.0->spektral) (0.5.0)\n",
            "Requirement already satisfied: oauthlib>=3.0.0 in /usr/local/lib/python3.10/dist-packages (from requests-oauthlib>=0.7.0->google-auth-oauthlib<1.1,>=0.5->tensorboard<2.15,>=2.14->tensorflow>=2.2.0->spektral) (3.2.2)\n",
            "Installing collected packages: spektral\n",
            "Successfully installed spektral-1.3.0\n"
          ]
        }
      ]
    },
    {
      "cell_type": "code",
      "source": [
        "import tensorflow as tf\n",
        "import spektral\n",
        "from spektral.layers import GCNConv, GlobalMaxPool\n",
        "from spektral.utils import sp_matrix_to_sp_tensor\n",
        "from tensorflow.keras import optimizers\n",
        "from tensorflow.keras.layers import Flatten, Dense, Lambda\n",
        "from tensorflow.keras.layers import Dropout, BatchNormalization, Activation\n",
        "from tensorflow.keras.callbacks import Callback, EarlyStopping, ReduceLROnPlateau\n",
        "from tensorflow.keras.preprocessing.image import ImageDataGenerator\n",
        "from keras.layers import Input\n",
        "from keras.models import Model\n",
        "from keras.regularizers import l2"
      ],
      "metadata": {
        "id": "G3_I6uN1ieg7"
      },
      "execution_count": null,
      "outputs": []
    },
    {
      "cell_type": "code",
      "source": [
        "X_in = Input(shape = (51, 18432))\n",
        "A_in = Input(shape = (51, 51))\n",
        "l2_reg = 5e-4\n",
        "\n",
        "GCN1 = spektral.layers.GCNConv(channels = 512, activation='elu', kernel_initializer='he_normal', name='GCN1')([X_in,A_in])\n",
        "B1 = BatchNormalization()(GCN1)\n",
        "GCN2 = spektral.layers.GCNConv(channels = 256, activation='elu', kernel_initializer='he_normal', name='GCN2')([B1, A_in])\n",
        "B2 = BatchNormalization()(GCN2)\n",
        "D1 = Dropout(0.4)(B2)\n",
        "GCN3 = spektral.layers.GCNConv(channels = 256, activation='elu', kernel_initializer='he_normal', name='GCN3')([D1,A_in])\n",
        "B3 = BatchNormalization()(GCN3)\n",
        "GCN4 = spektral.layers.GCNConv(channels = 128 ,activation='elu', kernel_initializer='he_normal', name='GCN4')([B3, A_in])\n",
        "B4 = BatchNormalization()(GCN4)\n",
        "D2 = Dropout(0.4)(B4)\n",
        "GCN5 = spektral.layers.GCNConv(channels = 128,activation='elu', kernel_initializer='he_normal', name='GCN5')([D2, A_in])\n",
        "B5 = BatchNormalization()(GCN5)\n",
        "GCN6 = spektral.layers.GCNConv(channels = 64 ,activation='elu', kernel_initializer='he_normal',name='GCN6')([B5, A_in])\n",
        "B6 = BatchNormalization()(GCN6)\n",
        "MP1 = spektral.layers.GlobalMaxPool()(B6)\n",
        "D3 = Dropout(0.4)(MP1)\n",
        "flatten = Flatten()(D3)\n",
        "DS1 = Dense(64 ,activation='elu',kernel_initializer='he_normal')(flatten)\n",
        "B7 = BatchNormalization()(DS1)\n",
        "DS2 = Dense(32 ,activation='elu',kernel_initializer='he_normal')(B7)\n",
        "B8 = BatchNormalization()(DS2)\n",
        "D4 = Dropout(0.4)(B8)\n",
        "output = Dense(4, activation='softmax')(D4)\n",
        "\n",
        "model = Model(inputs=[X_in, A_in], outputs=output)"
      ],
      "metadata": {
        "id": "niVAhubSikq7"
      },
      "execution_count": null,
      "outputs": []
    },
    {
      "cell_type": "code",
      "source": [
        "from tensorflow.keras.optimizers import Adam\n",
        "optimizer = Adam(learning_rate = 0.001)\n",
        "model.compile(optimizer=optimizer, loss='categorical_crossentropy', metrics=['accuracy'])"
      ],
      "metadata": {
        "id": "aBswdfWeke-C"
      },
      "execution_count": null,
      "outputs": []
    },
    {
      "cell_type": "code",
      "source": [
        "model.summary()"
      ],
      "metadata": {
        "colab": {
          "base_uri": "https://localhost:8080/"
        },
        "id": "_cOAcBPIk8c6",
        "outputId": "a3cfac17-bae9-48e0-949e-48531cd7e6c5"
      },
      "execution_count": null,
      "outputs": [
        {
          "output_type": "stream",
          "name": "stdout",
          "text": [
            "Model: \"model\"\n",
            "__________________________________________________________________________________________________\n",
            " Layer (type)                Output Shape                 Param #   Connected to                  \n",
            "==================================================================================================\n",
            " input_1 (InputLayer)        [(None, 51, 18432)]          0         []                            \n",
            "                                                                                                  \n",
            " input_2 (InputLayer)        [(None, 51, 51)]             0         []                            \n",
            "                                                                                                  \n",
            " GCN1 (GCNConv)              (None, 51, 512)              9437696   ['input_1[0][0]',             \n",
            "                                                                     'input_2[0][0]']             \n",
            "                                                                                                  \n",
            " batch_normalization (Batch  (None, 51, 512)              2048      ['GCN1[0][0]']                \n",
            " Normalization)                                                                                   \n",
            "                                                                                                  \n",
            " GCN2 (GCNConv)              (None, 51, 256)              131328    ['batch_normalization[0][0]', \n",
            "                                                                     'input_2[0][0]']             \n",
            "                                                                                                  \n",
            " batch_normalization_1 (Bat  (None, 51, 256)              1024      ['GCN2[0][0]']                \n",
            " chNormalization)                                                                                 \n",
            "                                                                                                  \n",
            " dropout (Dropout)           (None, 51, 256)              0         ['batch_normalization_1[0][0]'\n",
            "                                                                    ]                             \n",
            "                                                                                                  \n",
            " GCN3 (GCNConv)              (None, 51, 256)              65792     ['dropout[0][0]',             \n",
            "                                                                     'input_2[0][0]']             \n",
            "                                                                                                  \n",
            " batch_normalization_2 (Bat  (None, 51, 256)              1024      ['GCN3[0][0]']                \n",
            " chNormalization)                                                                                 \n",
            "                                                                                                  \n",
            " GCN4 (GCNConv)              (None, 51, 128)              32896     ['batch_normalization_2[0][0]'\n",
            "                                                                    , 'input_2[0][0]']            \n",
            "                                                                                                  \n",
            " batch_normalization_3 (Bat  (None, 51, 128)              512       ['GCN4[0][0]']                \n",
            " chNormalization)                                                                                 \n",
            "                                                                                                  \n",
            " dropout_1 (Dropout)         (None, 51, 128)              0         ['batch_normalization_3[0][0]'\n",
            "                                                                    ]                             \n",
            "                                                                                                  \n",
            " GCN5 (GCNConv)              (None, 51, 128)              16512     ['dropout_1[0][0]',           \n",
            "                                                                     'input_2[0][0]']             \n",
            "                                                                                                  \n",
            " batch_normalization_4 (Bat  (None, 51, 128)              512       ['GCN5[0][0]']                \n",
            " chNormalization)                                                                                 \n",
            "                                                                                                  \n",
            " GCN6 (GCNConv)              (None, 51, 64)               8256      ['batch_normalization_4[0][0]'\n",
            "                                                                    , 'input_2[0][0]']            \n",
            "                                                                                                  \n",
            " batch_normalization_5 (Bat  (None, 51, 64)               256       ['GCN6[0][0]']                \n",
            " chNormalization)                                                                                 \n",
            "                                                                                                  \n",
            " global_max_pool (GlobalMax  (None, 64)                   0         ['batch_normalization_5[0][0]'\n",
            " Pool)                                                              ]                             \n",
            "                                                                                                  \n",
            " dropout_2 (Dropout)         (None, 64)                   0         ['global_max_pool[0][0]']     \n",
            "                                                                                                  \n",
            " flatten (Flatten)           (None, 64)                   0         ['dropout_2[0][0]']           \n",
            "                                                                                                  \n",
            " dense (Dense)               (None, 64)                   4160      ['flatten[0][0]']             \n",
            "                                                                                                  \n",
            " batch_normalization_6 (Bat  (None, 64)                   256       ['dense[0][0]']               \n",
            " chNormalization)                                                                                 \n",
            "                                                                                                  \n",
            " dense_1 (Dense)             (None, 32)                   2080      ['batch_normalization_6[0][0]'\n",
            "                                                                    ]                             \n",
            "                                                                                                  \n",
            " batch_normalization_7 (Bat  (None, 32)                   128       ['dense_1[0][0]']             \n",
            " chNormalization)                                                                                 \n",
            "                                                                                                  \n",
            " dropout_3 (Dropout)         (None, 32)                   0         ['batch_normalization_7[0][0]'\n",
            "                                                                    ]                             \n",
            "                                                                                                  \n",
            " dense_2 (Dense)             (None, 4)                    132       ['dropout_3[0][0]']           \n",
            "                                                                                                  \n",
            "==================================================================================================\n",
            "Total params: 9704612 (37.02 MB)\n",
            "Trainable params: 9701732 (37.01 MB)\n",
            "Non-trainable params: 2880 (11.25 KB)\n",
            "__________________________________________________________________________________________________\n"
          ]
        }
      ]
    },
    {
      "cell_type": "code",
      "source": [
        "import random\n",
        "def train_gen():\n",
        "  num_batches = 406\n",
        "  print(\"Number of Batches: \", num_batches)\n",
        "\n",
        "  batch_indices = list(range(num_batches))\n",
        "\n",
        "  while True:\n",
        "    random.shuffle(batch_indices)\n",
        "\n",
        "    for k in batch_indices:\n",
        "      filename = f'/content/drive/MyDrive/EmotionGCN/Batches/train/batch_data_{k}.npz'\n",
        "      data = np.load(filename)\n",
        "      batch_adj = data['batch_adj']\n",
        "      batch_feat = data['batch_feat']\n",
        "      batch_feat = batch_feat.reshape(batch_feat.shape[0], batch_feat.shape[1], -1)\n",
        "      batch_labels = data['batch_labels']\n",
        "\n",
        "      yield (batch_feat, batch_adj), batch_labels\n",
        "      del batch_feat, batch_adj, batch_labels, data"
      ],
      "metadata": {
        "id": "C13DQ5YUmDAD"
      },
      "execution_count": null,
      "outputs": []
    },
    {
      "cell_type": "code",
      "source": [
        "def val_gen():\n",
        "  num_batches = 72\n",
        "  print(\"Number of Batches: \", num_batches)\n",
        "\n",
        "  batch_indices = list(range(num_batches))\n",
        "\n",
        "  while True:\n",
        "    random.shuffle(batch_indices)\n",
        "\n",
        "    for k in batch_indices:\n",
        "      data = np.load(f'/content/drive/MyDrive/EmotionGCN/Batches/val/batch_data_{k}.npz')\n",
        "      batch_adj = data['batch_adj']\n",
        "      batch_feat = data['batch_feat']\n",
        "      batch_feat = batch_feat.reshape(batch_feat.shape[0], batch_feat.shape[1], -1)\n",
        "      batch_labels = data['batch_labels']\n",
        "\n",
        "      yield (batch_feat, batch_adj), batch_labels\n",
        "      del batch_feat, batch_adj, batch_labels, data"
      ],
      "metadata": {
        "id": "Rr75rCr9mwYN"
      },
      "execution_count": null,
      "outputs": []
    },
    {
      "cell_type": "markdown",
      "source": [
        "## Data Augmentation"
      ],
      "metadata": {
        "id": "4HuPbAr6Bes9"
      }
    },
    {
      "cell_type": "code",
      "source": [
        "train_datagenerator = ImageDataGenerator(rotation_range=15,width_shift_range=0.15,height_shift_range=0.15,\n",
        "    shear_range=0.15,zoom_range=0.15,horizontal_flip=True)"
      ],
      "metadata": {
        "id": "dLUKZYOsnCbs"
      },
      "execution_count": null,
      "outputs": []
    },
    {
      "cell_type": "markdown",
      "source": [
        "## Model Fitting"
      ],
      "metadata": {
        "id": "EXo3duWgBg7a"
      }
    },
    {
      "cell_type": "code",
      "source": [
        "model_path = '/content/drive/MyDrive/EmotionGCN/model_05_1.04_0.53.h5'"
      ],
      "metadata": {
        "id": "KuNWzidpgHGS"
      },
      "execution_count": null,
      "outputs": []
    },
    {
      "cell_type": "code",
      "source": [
        "tf.keras.utils.get_custom_objects()['GCNConv'] = GCNConv\n",
        "tf.keras.utils.get_custom_objects()['GlobalMaxPool'] = GlobalMaxPool\n",
        "model = tf.keras.models.load_model(model_path)"
      ],
      "metadata": {
        "id": "ZeJJjBAegPmK"
      },
      "execution_count": null,
      "outputs": []
    },
    {
      "cell_type": "code",
      "source": [
        "from tensorflow.keras.callbacks import ModelCheckpoint\n",
        "early_stopping = EarlyStopping(monitor='val_accuracy',min_delta=0.00005,patience=10,verbose=1,\n",
        "    restore_best_weights=True)\n",
        "lr_scheduler = ReduceLROnPlateau(monitor='val_accuracy',factor=0.5,patience=7,min_lr=1e-7,verbose=1)\n",
        "filepath = \"/content/drive/MyDrive/EmotionGCN/model_{epoch:02d}_{val_loss:.2f}_{val_accuracy:.2f}.h5\"\n",
        "checkpoint = ModelCheckpoint(filepath=filepath,\n",
        "                             monitor='val_loss',\n",
        "                             verbose=1,\n",
        "                             save_best_only=True,\n",
        "                             mode='min')\n",
        "callbacks = [early_stopping,lr_scheduler, checkpoint]"
      ],
      "metadata": {
        "id": "0RLs_qof5PII"
      },
      "execution_count": null,
      "outputs": []
    },
    {
      "cell_type": "code",
      "source": [
        "import numpy as np"
      ],
      "metadata": {
        "id": "LJW58bG0Ur0A"
      },
      "execution_count": null,
      "outputs": []
    },
    {
      "cell_type": "code",
      "source": [
        "batch_size = 32\n",
        "epochs = 75\n",
        "train_generator = train_gen()\n",
        "val_generator = val_gen()\n",
        "history = model.fit(train_generator, batch_size = batch_size, epochs = epochs, steps_per_epoch = 406, validation_data = val_generator, validation_steps= 72,callbacks=callbacks)"
      ],
      "metadata": {
        "colab": {
          "base_uri": "https://localhost:8080/"
        },
        "id": "M9Z5v_Nem6ga",
        "outputId": "24cccca9-2681-4243-b1c8-335ed30a9f1c"
      },
      "execution_count": null,
      "outputs": [
        {
          "output_type": "stream",
          "name": "stdout",
          "text": [
            "Number of Batches:  406\n",
            "Epoch 1/75\n",
            "406/406 [==============================] - ETA: 0s - loss: 1.0395 - accuracy: 0.5297Number of Batches:  72\n",
            "\n",
            "Epoch 1: val_loss improved from inf to 1.32682, saving model to /content/drive/MyDrive/EmotionGCN/model_01_1.33_0.46.h5\n"
          ]
        },
        {
          "output_type": "stream",
          "name": "stderr",
          "text": [
            "/usr/local/lib/python3.10/dist-packages/keras/src/engine/training.py:3079: UserWarning: You are saving your model as an HDF5 file via `model.save()`. This file format is considered legacy. We recommend using instead the native Keras format, e.g. `model.save('my_model.keras')`.\n",
            "  saving_api.save_model(\n"
          ]
        },
        {
          "output_type": "stream",
          "name": "stdout",
          "text": [
            "\b\b\b\b\b\b\b\b\b\b\b\b\b\b\b\b\b\b\b\b\b\b\b\b\b\b\b\b\b\b\b\b\b\b\b\b\b\b\b\b\b\b\b\b\b\b\b\b\b\b\b\b\b\b\b\b\b\b\b\b\b\b\b\b\b\b\b\b\b\b\b\b\b\b\b\b\b\b\b\b\b\b\b\b\r406/406 [==============================] - 823s 2s/step - loss: 1.0395 - accuracy: 0.5297 - val_loss: 1.3268 - val_accuracy: 0.4561 - lr: 0.0010\n",
            "Epoch 2/75\n",
            "406/406 [==============================] - ETA: 0s - loss: 1.0184 - accuracy: 0.5419\n",
            "Epoch 2: val_loss did not improve from 1.32682\n",
            "406/406 [==============================] - 742s 2s/step - loss: 1.0184 - accuracy: 0.5419 - val_loss: 1.3291 - val_accuracy: 0.3645 - lr: 0.0010\n",
            "Epoch 3/75\n",
            "406/406 [==============================] - ETA: 0s - loss: 0.9904 - accuracy: 0.5659\n",
            "Epoch 3: val_loss improved from 1.32682 to 1.21846, saving model to /content/drive/MyDrive/EmotionGCN/model_03_1.22_0.50.h5\n",
            "406/406 [==============================] - 750s 2s/step - loss: 0.9904 - accuracy: 0.5659 - val_loss: 1.2185 - val_accuracy: 0.4987 - lr: 0.0010\n",
            "Epoch 4/75\n",
            "406/406 [==============================] - ETA: 0s - loss: 0.9734 - accuracy: 0.5772\n",
            "Epoch 4: val_loss did not improve from 1.21846\n",
            "406/406 [==============================] - 729s 2s/step - loss: 0.9734 - accuracy: 0.5772 - val_loss: 1.6734 - val_accuracy: 0.3225 - lr: 0.0010\n",
            "Epoch 5/75\n",
            "406/406 [==============================] - ETA: 0s - loss: 0.9695 - accuracy: 0.5774\n",
            "Epoch 5: val_loss improved from 1.21846 to 1.20039, saving model to /content/drive/MyDrive/EmotionGCN/model_05_1.20_0.44.h5\n",
            "406/406 [==============================] - 714s 2s/step - loss: 0.9695 - accuracy: 0.5774 - val_loss: 1.2004 - val_accuracy: 0.4395 - lr: 0.0010\n",
            "Epoch 6/75\n",
            "406/406 [==============================] - ETA: 0s - loss: 0.9530 - accuracy: 0.5810\n",
            "Epoch 6: val_loss did not improve from 1.20039\n",
            "406/406 [==============================] - 798s 2s/step - loss: 0.9530 - accuracy: 0.5810 - val_loss: 1.3509 - val_accuracy: 0.3907 - lr: 0.0010\n",
            "Epoch 7/75\n",
            "406/406 [==============================] - ETA: 0s - loss: 0.9304 - accuracy: 0.6079\n",
            "Epoch 7: val_loss did not improve from 1.20039\n",
            "406/406 [==============================] - 874s 2s/step - loss: 0.9304 - accuracy: 0.6079 - val_loss: 1.3782 - val_accuracy: 0.3435 - lr: 0.0010\n",
            "Epoch 8/75\n",
            "406/406 [==============================] - ETA: 0s - loss: 0.9233 - accuracy: 0.6044\n",
            "Epoch 8: val_loss improved from 1.20039 to 1.15620, saving model to /content/drive/MyDrive/EmotionGCN/model_08_1.16_0.42.h5\n",
            "406/406 [==============================] - 931s 2s/step - loss: 0.9233 - accuracy: 0.6044 - val_loss: 1.1562 - val_accuracy: 0.4188 - lr: 0.0010\n",
            "Epoch 9/75\n",
            "406/406 [==============================] - ETA: 0s - loss: 0.9110 - accuracy: 0.6109"
          ]
        }
      ]
    }
  ],
  "metadata": {
    "accelerator": "GPU",
    "colab": {
      "provenance": [],
      "gpuType": "T4"
    },
    "kernelspec": {
      "display_name": "Python 3",
      "name": "python3"
    },
    "language_info": {
      "name": "python"
    }
  },
  "nbformat": 4,
  "nbformat_minor": 0
}