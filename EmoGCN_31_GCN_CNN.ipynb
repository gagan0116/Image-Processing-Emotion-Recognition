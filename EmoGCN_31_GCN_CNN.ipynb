{
  "nbformat": 4,
  "nbformat_minor": 0,
  "metadata": {
    "colab": {
      "provenance": []
    },
    "kernelspec": {
      "name": "python3",
      "display_name": "Python 3"
    },
    "language_info": {
      "name": "python"
    },
    "accelerator": "GPU",
    "gpuClass": "standard"
  },
  "cells": [
    {
      "cell_type": "code",
      "execution_count": null,
      "metadata": {
        "colab": {
          "base_uri": "https://localhost:8080/"
        },
        "id": "DcjyZeDlTUxq",
        "outputId": "615fe94c-c65d-42c6-ed9d-150dbcd279cf"
      },
      "outputs": [
        {
          "output_type": "stream",
          "name": "stdout",
          "text": [
            "Looking in indexes: https://pypi.org/simple, https://us-python.pkg.dev/colab-wheels/public/simple/\n",
            "Requirement already satisfied: spektral in /usr/local/lib/python3.8/dist-packages (1.2.0)\n",
            "Requirement already satisfied: numpy in /usr/local/lib/python3.8/dist-packages (from spektral) (1.22.4)\n",
            "Requirement already satisfied: joblib in /usr/local/lib/python3.8/dist-packages (from spektral) (1.2.0)\n",
            "Requirement already satisfied: tqdm in /usr/local/lib/python3.8/dist-packages (from spektral) (4.64.1)\n",
            "Requirement already satisfied: scikit-learn in /usr/local/lib/python3.8/dist-packages (from spektral) (1.0.2)\n",
            "Requirement already satisfied: scipy in /usr/local/lib/python3.8/dist-packages (from spektral) (1.10.1)\n",
            "Requirement already satisfied: lxml in /usr/local/lib/python3.8/dist-packages (from spektral) (4.9.2)\n",
            "Requirement already satisfied: networkx in /usr/local/lib/python3.8/dist-packages (from spektral) (3.0)\n",
            "Requirement already satisfied: tensorflow>=2.2.0 in /usr/local/lib/python3.8/dist-packages (from spektral) (2.11.0)\n",
            "Requirement already satisfied: requests in /usr/local/lib/python3.8/dist-packages (from spektral) (2.25.1)\n",
            "Requirement already satisfied: pandas in /usr/local/lib/python3.8/dist-packages (from spektral) (1.3.5)\n",
            "Requirement already satisfied: setuptools in /usr/local/lib/python3.8/dist-packages (from tensorflow>=2.2.0->spektral) (57.4.0)\n",
            "Requirement already satisfied: tensorflow-io-gcs-filesystem>=0.23.1 in /usr/local/lib/python3.8/dist-packages (from tensorflow>=2.2.0->spektral) (0.30.0)\n",
            "Requirement already satisfied: flatbuffers>=2.0 in /usr/local/lib/python3.8/dist-packages (from tensorflow>=2.2.0->spektral) (23.1.21)\n",
            "Requirement already satisfied: typing-extensions>=3.6.6 in /usr/local/lib/python3.8/dist-packages (from tensorflow>=2.2.0->spektral) (4.5.0)\n",
            "Requirement already satisfied: tensorboard<2.12,>=2.11 in /usr/local/lib/python3.8/dist-packages (from tensorflow>=2.2.0->spektral) (2.11.2)\n",
            "Requirement already satisfied: libclang>=13.0.0 in /usr/local/lib/python3.8/dist-packages (from tensorflow>=2.2.0->spektral) (15.0.6.1)\n",
            "Requirement already satisfied: h5py>=2.9.0 in /usr/local/lib/python3.8/dist-packages (from tensorflow>=2.2.0->spektral) (3.1.0)\n",
            "Requirement already satisfied: packaging in /usr/local/lib/python3.8/dist-packages (from tensorflow>=2.2.0->spektral) (23.0)\n",
            "Requirement already satisfied: wrapt>=1.11.0 in /usr/local/lib/python3.8/dist-packages (from tensorflow>=2.2.0->spektral) (1.14.1)\n",
            "Requirement already satisfied: termcolor>=1.1.0 in /usr/local/lib/python3.8/dist-packages (from tensorflow>=2.2.0->spektral) (2.2.0)\n",
            "Requirement already satisfied: gast<=0.4.0,>=0.2.1 in /usr/local/lib/python3.8/dist-packages (from tensorflow>=2.2.0->spektral) (0.4.0)\n",
            "Requirement already satisfied: keras<2.12,>=2.11.0 in /usr/local/lib/python3.8/dist-packages (from tensorflow>=2.2.0->spektral) (2.11.0)\n",
            "Requirement already satisfied: protobuf<3.20,>=3.9.2 in /usr/local/lib/python3.8/dist-packages (from tensorflow>=2.2.0->spektral) (3.19.6)\n",
            "Requirement already satisfied: tensorflow-estimator<2.12,>=2.11.0 in /usr/local/lib/python3.8/dist-packages (from tensorflow>=2.2.0->spektral) (2.11.0)\n",
            "Requirement already satisfied: opt-einsum>=2.3.2 in /usr/local/lib/python3.8/dist-packages (from tensorflow>=2.2.0->spektral) (3.3.0)\n",
            "Requirement already satisfied: google-pasta>=0.1.1 in /usr/local/lib/python3.8/dist-packages (from tensorflow>=2.2.0->spektral) (0.2.0)\n",
            "Requirement already satisfied: absl-py>=1.0.0 in /usr/local/lib/python3.8/dist-packages (from tensorflow>=2.2.0->spektral) (1.4.0)\n",
            "Requirement already satisfied: astunparse>=1.6.0 in /usr/local/lib/python3.8/dist-packages (from tensorflow>=2.2.0->spektral) (1.6.3)\n",
            "Requirement already satisfied: grpcio<2.0,>=1.24.3 in /usr/local/lib/python3.8/dist-packages (from tensorflow>=2.2.0->spektral) (1.51.3)\n",
            "Requirement already satisfied: six>=1.12.0 in /usr/local/lib/python3.8/dist-packages (from tensorflow>=2.2.0->spektral) (1.15.0)\n",
            "Requirement already satisfied: pytz>=2017.3 in /usr/local/lib/python3.8/dist-packages (from pandas->spektral) (2022.7.1)\n",
            "Requirement already satisfied: python-dateutil>=2.7.3 in /usr/local/lib/python3.8/dist-packages (from pandas->spektral) (2.8.2)\n",
            "Requirement already satisfied: chardet<5,>=3.0.2 in /usr/local/lib/python3.8/dist-packages (from requests->spektral) (4.0.0)\n",
            "Requirement already satisfied: urllib3<1.27,>=1.21.1 in /usr/local/lib/python3.8/dist-packages (from requests->spektral) (1.24.3)\n",
            "Requirement already satisfied: idna<3,>=2.5 in /usr/local/lib/python3.8/dist-packages (from requests->spektral) (2.10)\n",
            "Requirement already satisfied: certifi>=2017.4.17 in /usr/local/lib/python3.8/dist-packages (from requests->spektral) (2022.12.7)\n",
            "Requirement already satisfied: threadpoolctl>=2.0.0 in /usr/local/lib/python3.8/dist-packages (from scikit-learn->spektral) (3.1.0)\n",
            "Requirement already satisfied: wheel<1.0,>=0.23.0 in /usr/local/lib/python3.8/dist-packages (from astunparse>=1.6.0->tensorflow>=2.2.0->spektral) (0.38.4)\n",
            "Requirement already satisfied: google-auth-oauthlib<0.5,>=0.4.1 in /usr/local/lib/python3.8/dist-packages (from tensorboard<2.12,>=2.11->tensorflow>=2.2.0->spektral) (0.4.6)\n",
            "Requirement already satisfied: google-auth<3,>=1.6.3 in /usr/local/lib/python3.8/dist-packages (from tensorboard<2.12,>=2.11->tensorflow>=2.2.0->spektral) (2.16.1)\n",
            "Requirement already satisfied: tensorboard-data-server<0.7.0,>=0.6.0 in /usr/local/lib/python3.8/dist-packages (from tensorboard<2.12,>=2.11->tensorflow>=2.2.0->spektral) (0.6.1)\n",
            "Requirement already satisfied: markdown>=2.6.8 in /usr/local/lib/python3.8/dist-packages (from tensorboard<2.12,>=2.11->tensorflow>=2.2.0->spektral) (3.4.1)\n",
            "Requirement already satisfied: tensorboard-plugin-wit>=1.6.0 in /usr/local/lib/python3.8/dist-packages (from tensorboard<2.12,>=2.11->tensorflow>=2.2.0->spektral) (1.8.1)\n",
            "Requirement already satisfied: werkzeug>=1.0.1 in /usr/local/lib/python3.8/dist-packages (from tensorboard<2.12,>=2.11->tensorflow>=2.2.0->spektral) (1.0.1)\n",
            "Requirement already satisfied: pyasn1-modules>=0.2.1 in /usr/local/lib/python3.8/dist-packages (from google-auth<3,>=1.6.3->tensorboard<2.12,>=2.11->tensorflow>=2.2.0->spektral) (0.2.8)\n",
            "Requirement already satisfied: cachetools<6.0,>=2.0.0 in /usr/local/lib/python3.8/dist-packages (from google-auth<3,>=1.6.3->tensorboard<2.12,>=2.11->tensorflow>=2.2.0->spektral) (5.3.0)\n",
            "Requirement already satisfied: rsa<5,>=3.1.4 in /usr/local/lib/python3.8/dist-packages (from google-auth<3,>=1.6.3->tensorboard<2.12,>=2.11->tensorflow>=2.2.0->spektral) (4.9)\n",
            "Requirement already satisfied: requests-oauthlib>=0.7.0 in /usr/local/lib/python3.8/dist-packages (from google-auth-oauthlib<0.5,>=0.4.1->tensorboard<2.12,>=2.11->tensorflow>=2.2.0->spektral) (1.3.1)\n",
            "Requirement already satisfied: importlib-metadata>=4.4 in /usr/local/lib/python3.8/dist-packages (from markdown>=2.6.8->tensorboard<2.12,>=2.11->tensorflow>=2.2.0->spektral) (6.0.0)\n",
            "Requirement already satisfied: zipp>=0.5 in /usr/local/lib/python3.8/dist-packages (from importlib-metadata>=4.4->markdown>=2.6.8->tensorboard<2.12,>=2.11->tensorflow>=2.2.0->spektral) (3.14.0)\n",
            "Requirement already satisfied: pyasn1<0.5.0,>=0.4.6 in /usr/local/lib/python3.8/dist-packages (from pyasn1-modules>=0.2.1->google-auth<3,>=1.6.3->tensorboard<2.12,>=2.11->tensorflow>=2.2.0->spektral) (0.4.8)\n",
            "Requirement already satisfied: oauthlib>=3.0.0 in /usr/local/lib/python3.8/dist-packages (from requests-oauthlib>=0.7.0->google-auth-oauthlib<0.5,>=0.4.1->tensorboard<2.12,>=2.11->tensorflow>=2.2.0->spektral) (3.2.2)\n"
          ]
        }
      ],
      "source": [
        "!pip install spektral"
      ]
    },
    {
      "cell_type": "code",
      "source": [
        "from google.colab import drive\n",
        "drive.mount('/content/drive')"
      ],
      "metadata": {
        "colab": {
          "base_uri": "https://localhost:8080/"
        },
        "id": "gGHCDVroWI2l",
        "outputId": "354d821d-2cf5-4cf8-f97c-5950247a6a4d"
      },
      "execution_count": null,
      "outputs": [
        {
          "output_type": "stream",
          "name": "stdout",
          "text": [
            "Drive already mounted at /content/drive; to attempt to forcibly remount, call drive.mount(\"/content/drive\", force_remount=True).\n"
          ]
        }
      ]
    },
    {
      "cell_type": "code",
      "source": [
        "import numpy as np\n",
        "import pandas as pd\n",
        "from matplotlib import pyplot as plt\n",
        "import sklearn.neighbors as nn\n",
        "import spektral"
      ],
      "metadata": {
        "id": "Fl8H7jMnWTDy"
      },
      "execution_count": null,
      "outputs": []
    },
    {
      "cell_type": "code",
      "source": [
        "from sklearn.preprocessing import LabelEncoder\n",
        "from keras.utils import np_utils\n",
        "import networkx as nx\n",
        "import scipy\n",
        "from scipy.sparse import coo_matrix"
      ],
      "metadata": {
        "id": "dGxbP5C9XFXT"
      },
      "execution_count": null,
      "outputs": []
    },
    {
      "cell_type": "code",
      "source": [
        "df = pd.read_csv('/content/drive/MyDrive/Dataset/fer2013.csv')\n",
        "df.head()"
      ],
      "metadata": {
        "colab": {
          "base_uri": "https://localhost:8080/",
          "height": 206
        },
        "id": "Ug4gsD2sWY2T",
        "outputId": "9a7423d5-6b71-4d75-a755-d0d1bdbc3d21"
      },
      "execution_count": null,
      "outputs": [
        {
          "output_type": "execute_result",
          "data": {
            "text/plain": [
              "   emotion                                             pixels     Usage\n",
              "0        0  70 80 82 72 58 58 60 63 54 58 60 48 89 115 121...  Training\n",
              "1        0  151 150 147 155 148 133 111 140 170 174 182 15...  Training\n",
              "2        2  231 212 156 164 174 138 161 173 182 200 106 38...  Training\n",
              "3        4  24 32 36 30 32 23 19 20 30 41 21 22 32 34 21 1...  Training\n",
              "4        6  4 0 0 0 0 0 0 0 0 0 0 0 3 15 23 28 48 50 58 84...  Training"
            ],
            "text/html": [
              "\n",
              "  <div id=\"df-55b6cd06-d5c2-4e48-817c-b2c0b5b5dda0\">\n",
              "    <div class=\"colab-df-container\">\n",
              "      <div>\n",
              "<style scoped>\n",
              "    .dataframe tbody tr th:only-of-type {\n",
              "        vertical-align: middle;\n",
              "    }\n",
              "\n",
              "    .dataframe tbody tr th {\n",
              "        vertical-align: top;\n",
              "    }\n",
              "\n",
              "    .dataframe thead th {\n",
              "        text-align: right;\n",
              "    }\n",
              "</style>\n",
              "<table border=\"1\" class=\"dataframe\">\n",
              "  <thead>\n",
              "    <tr style=\"text-align: right;\">\n",
              "      <th></th>\n",
              "      <th>emotion</th>\n",
              "      <th>pixels</th>\n",
              "      <th>Usage</th>\n",
              "    </tr>\n",
              "  </thead>\n",
              "  <tbody>\n",
              "    <tr>\n",
              "      <th>0</th>\n",
              "      <td>0</td>\n",
              "      <td>70 80 82 72 58 58 60 63 54 58 60 48 89 115 121...</td>\n",
              "      <td>Training</td>\n",
              "    </tr>\n",
              "    <tr>\n",
              "      <th>1</th>\n",
              "      <td>0</td>\n",
              "      <td>151 150 147 155 148 133 111 140 170 174 182 15...</td>\n",
              "      <td>Training</td>\n",
              "    </tr>\n",
              "    <tr>\n",
              "      <th>2</th>\n",
              "      <td>2</td>\n",
              "      <td>231 212 156 164 174 138 161 173 182 200 106 38...</td>\n",
              "      <td>Training</td>\n",
              "    </tr>\n",
              "    <tr>\n",
              "      <th>3</th>\n",
              "      <td>4</td>\n",
              "      <td>24 32 36 30 32 23 19 20 30 41 21 22 32 34 21 1...</td>\n",
              "      <td>Training</td>\n",
              "    </tr>\n",
              "    <tr>\n",
              "      <th>4</th>\n",
              "      <td>6</td>\n",
              "      <td>4 0 0 0 0 0 0 0 0 0 0 0 3 15 23 28 48 50 58 84...</td>\n",
              "      <td>Training</td>\n",
              "    </tr>\n",
              "  </tbody>\n",
              "</table>\n",
              "</div>\n",
              "      <button class=\"colab-df-convert\" onclick=\"convertToInteractive('df-55b6cd06-d5c2-4e48-817c-b2c0b5b5dda0')\"\n",
              "              title=\"Convert this dataframe to an interactive table.\"\n",
              "              style=\"display:none;\">\n",
              "        \n",
              "  <svg xmlns=\"http://www.w3.org/2000/svg\" height=\"24px\"viewBox=\"0 0 24 24\"\n",
              "       width=\"24px\">\n",
              "    <path d=\"M0 0h24v24H0V0z\" fill=\"none\"/>\n",
              "    <path d=\"M18.56 5.44l.94 2.06.94-2.06 2.06-.94-2.06-.94-.94-2.06-.94 2.06-2.06.94zm-11 1L8.5 8.5l.94-2.06 2.06-.94-2.06-.94L8.5 2.5l-.94 2.06-2.06.94zm10 10l.94 2.06.94-2.06 2.06-.94-2.06-.94-.94-2.06-.94 2.06-2.06.94z\"/><path d=\"M17.41 7.96l-1.37-1.37c-.4-.4-.92-.59-1.43-.59-.52 0-1.04.2-1.43.59L10.3 9.45l-7.72 7.72c-.78.78-.78 2.05 0 2.83L4 21.41c.39.39.9.59 1.41.59.51 0 1.02-.2 1.41-.59l7.78-7.78 2.81-2.81c.8-.78.8-2.07 0-2.86zM5.41 20L4 18.59l7.72-7.72 1.47 1.35L5.41 20z\"/>\n",
              "  </svg>\n",
              "      </button>\n",
              "      \n",
              "  <style>\n",
              "    .colab-df-container {\n",
              "      display:flex;\n",
              "      flex-wrap:wrap;\n",
              "      gap: 12px;\n",
              "    }\n",
              "\n",
              "    .colab-df-convert {\n",
              "      background-color: #E8F0FE;\n",
              "      border: none;\n",
              "      border-radius: 50%;\n",
              "      cursor: pointer;\n",
              "      display: none;\n",
              "      fill: #1967D2;\n",
              "      height: 32px;\n",
              "      padding: 0 0 0 0;\n",
              "      width: 32px;\n",
              "    }\n",
              "\n",
              "    .colab-df-convert:hover {\n",
              "      background-color: #E2EBFA;\n",
              "      box-shadow: 0px 1px 2px rgba(60, 64, 67, 0.3), 0px 1px 3px 1px rgba(60, 64, 67, 0.15);\n",
              "      fill: #174EA6;\n",
              "    }\n",
              "\n",
              "    [theme=dark] .colab-df-convert {\n",
              "      background-color: #3B4455;\n",
              "      fill: #D2E3FC;\n",
              "    }\n",
              "\n",
              "    [theme=dark] .colab-df-convert:hover {\n",
              "      background-color: #434B5C;\n",
              "      box-shadow: 0px 1px 3px 1px rgba(0, 0, 0, 0.15);\n",
              "      filter: drop-shadow(0px 1px 2px rgba(0, 0, 0, 0.3));\n",
              "      fill: #FFFFFF;\n",
              "    }\n",
              "  </style>\n",
              "\n",
              "      <script>\n",
              "        const buttonEl =\n",
              "          document.querySelector('#df-55b6cd06-d5c2-4e48-817c-b2c0b5b5dda0 button.colab-df-convert');\n",
              "        buttonEl.style.display =\n",
              "          google.colab.kernel.accessAllowed ? 'block' : 'none';\n",
              "\n",
              "        async function convertToInteractive(key) {\n",
              "          const element = document.querySelector('#df-55b6cd06-d5c2-4e48-817c-b2c0b5b5dda0');\n",
              "          const dataTable =\n",
              "            await google.colab.kernel.invokeFunction('convertToInteractive',\n",
              "                                                     [key], {});\n",
              "          if (!dataTable) return;\n",
              "\n",
              "          const docLinkHtml = 'Like what you see? Visit the ' +\n",
              "            '<a target=\"_blank\" href=https://colab.research.google.com/notebooks/data_table.ipynb>data table notebook</a>'\n",
              "            + ' to learn more about interactive tables.';\n",
              "          element.innerHTML = '';\n",
              "          dataTable['output_type'] = 'display_data';\n",
              "          await google.colab.output.renderOutput(dataTable, element);\n",
              "          const docLink = document.createElement('div');\n",
              "          docLink.innerHTML = docLinkHtml;\n",
              "          element.appendChild(docLink);\n",
              "        }\n",
              "      </script>\n",
              "    </div>\n",
              "  </div>\n",
              "  "
            ]
          },
          "metadata": {},
          "execution_count": 6
        }
      ]
    },
    {
      "cell_type": "code",
      "source": [
        "emotion_labels = {0:'anger', 1:'disgust', 2:'fear', 3:'happiness', 4: 'sadness', 5: 'surprise', 6: 'neutral'}\n",
        "Labels = [2,3,4,6]\n",
        "df = df[df.emotion.isin(Labels)]"
      ],
      "metadata": {
        "id": "lWvFKIaJWdH9"
      },
      "execution_count": null,
      "outputs": []
    },
    {
      "cell_type": "code",
      "source": [
        "img_array = df.pixels.apply(lambda x: np.array(x.split(' ')).reshape(48, 48, 1).astype('float32'))\n",
        "img_array = np.stack(img_array, axis=0)\n",
        "img_array.shape"
      ],
      "metadata": {
        "colab": {
          "base_uri": "https://localhost:8080/"
        },
        "id": "1gpX4qpZWyGd",
        "outputId": "604b6faf-dfb0-4c75-dc5d-c9d59947e2c5"
      },
      "execution_count": null,
      "outputs": [
        {
          "output_type": "execute_result",
          "data": {
            "text/plain": [
              "(26385, 48, 48, 1)"
            ]
          },
          "metadata": {},
          "execution_count": 8
        }
      ]
    },
    {
      "cell_type": "code",
      "source": [
        "LE = LabelEncoder()\n",
        "img_labels = LE.fit_transform(df['emotion'])\n",
        "img_labels = np_utils.to_categorical(img_labels)\n",
        "img_labels.shape"
      ],
      "metadata": {
        "colab": {
          "base_uri": "https://localhost:8080/"
        },
        "id": "gEE4z47NXCyQ",
        "outputId": "9c0d1490-f699-4948-a9da-61cd011a7856"
      },
      "execution_count": null,
      "outputs": [
        {
          "output_type": "execute_result",
          "data": {
            "text/plain": [
              "(26385, 4)"
            ]
          },
          "metadata": {},
          "execution_count": 9
        }
      ]
    },
    {
      "cell_type": "code",
      "source": [
        "LE_label_mapping = dict(zip(LE.classes_, LE.transform(LE.classes_)))\n",
        "LE_label_mapping"
      ],
      "metadata": {
        "id": "WgKfspcLXZYU",
        "colab": {
          "base_uri": "https://localhost:8080/"
        },
        "outputId": "27a5f94f-f19a-4202-cfe1-79631c94b562"
      },
      "execution_count": null,
      "outputs": [
        {
          "output_type": "execute_result",
          "data": {
            "text/plain": [
              "{2: 0, 3: 1, 4: 2, 6: 3}"
            ]
          },
          "metadata": {},
          "execution_count": 10
        }
      ]
    },
    {
      "cell_type": "code",
      "source": [
        "# Create an empty graph\n",
        "G = nx.Graph()\n",
        "\n",
        "# Define the radius of connectivity\n",
        "radius = 2\n",
        "\n",
        "# Iterate over rows and columns of the pixel intensity array\n",
        "for row in range(img_array.shape[1]):\n",
        "    for col in range(img_array.shape[2]):\n",
        "        node_id = row*48 + col\n",
        "        pixel_intensity = img_array[0, row, col, :]\n",
        "\n",
        "        G.add_node(node_id, pixel_intensity=pixel_intensity)\n",
        "\n",
        "        # Connect to all nodes within the specified radius\n",
        "        for i in range(max(0, row-radius), min(48, row+radius+1)):\n",
        "            for j in range(max(0, col-radius), min(48, col+radius+1)):\n",
        "                if i == row and j == col:\n",
        "                    continue\n",
        "                neighbor_id = i*48 + j\n",
        "                G.add_edge(node_id, neighbor_id)\n"
      ],
      "metadata": {
        "id": "XD6LEvqiXdOo"
      },
      "execution_count": null,
      "outputs": []
    },
    {
      "cell_type": "code",
      "source": [
        "print(nx.number_of_nodes(G))"
      ],
      "metadata": {
        "colab": {
          "base_uri": "https://localhost:8080/"
        },
        "id": "rxpeXOK_g-kK",
        "outputId": "dd700fbf-d411-4ec9-db3c-09df416ac05d"
      },
      "execution_count": null,
      "outputs": [
        {
          "output_type": "stream",
          "name": "stdout",
          "text": [
            "2304\n"
          ]
        }
      ]
    },
    {
      "cell_type": "code",
      "source": [
        "print(nx.number_of_nodes(G))\n",
        "print(nx.number_of_edges(G))"
      ],
      "metadata": {
        "colab": {
          "base_uri": "https://localhost:8080/"
        },
        "id": "G05ZH9sfY8yu",
        "outputId": "150afa7d-859f-4000-e121-41ca7c9fb2b3"
      },
      "execution_count": null,
      "outputs": [
        {
          "output_type": "stream",
          "name": "stdout",
          "text": [
            "2304\n",
            "26226\n"
          ]
        }
      ]
    },
    {
      "cell_type": "code",
      "source": [
        "A = nx.adjacency_matrix(G)"
      ],
      "metadata": {
        "id": "y2wrPig1ZjNe"
      },
      "execution_count": null,
      "outputs": []
    },
    {
      "cell_type": "code",
      "source": [
        "!pip install --upgrade scipy networkx"
      ],
      "metadata": {
        "colab": {
          "base_uri": "https://localhost:8080/"
        },
        "id": "KrM0crcu-V8X",
        "outputId": "8fc596a6-38b4-40f1-cf94-941c0c4f5a14"
      },
      "execution_count": null,
      "outputs": [
        {
          "output_type": "stream",
          "name": "stdout",
          "text": [
            "Looking in indexes: https://pypi.org/simple, https://us-python.pkg.dev/colab-wheels/public/simple/\n",
            "Requirement already satisfied: scipy in /usr/local/lib/python3.8/dist-packages (1.10.1)\n",
            "Requirement already satisfied: networkx in /usr/local/lib/python3.8/dist-packages (3.0)\n",
            "Requirement already satisfied: numpy<1.27.0,>=1.19.5 in /usr/local/lib/python3.8/dist-packages (from scipy) (1.22.4)\n"
          ]
        }
      ]
    },
    {
      "cell_type": "code",
      "source": [
        "A.shape"
      ],
      "metadata": {
        "colab": {
          "base_uri": "https://localhost:8080/"
        },
        "id": "VhS2hYzWl2ti",
        "outputId": "c9012ff0-1688-4613-f790-55bc6b3843e4"
      },
      "execution_count": null,
      "outputs": [
        {
          "output_type": "execute_result",
          "data": {
            "text/plain": [
              "(2304, 2304)"
            ]
          },
          "metadata": {},
          "execution_count": 15
        }
      ]
    },
    {
      "cell_type": "code",
      "source": [
        "img_array_feat = img_array.reshape(img_array.shape[0], -1, 1)"
      ],
      "metadata": {
        "id": "A9mrfBBDqWzt"
      },
      "execution_count": null,
      "outputs": []
    },
    {
      "cell_type": "code",
      "source": [
        "img_array_norm = img_array_feat / 255.0"
      ],
      "metadata": {
        "id": "pnx7AZYZqnQk"
      },
      "execution_count": null,
      "outputs": []
    },
    {
      "cell_type": "code",
      "source": [
        "img_array_norm.shape"
      ],
      "metadata": {
        "colab": {
          "base_uri": "https://localhost:8080/"
        },
        "id": "PkZyjllWquOo",
        "outputId": "d7d4c8fa-5443-435a-d32d-ff21c89245e4"
      },
      "execution_count": null,
      "outputs": [
        {
          "output_type": "execute_result",
          "data": {
            "text/plain": [
              "(26385, 2304, 1)"
            ]
          },
          "metadata": {},
          "execution_count": 18
        }
      ]
    },
    {
      "cell_type": "code",
      "source": [
        "img_array_norm"
      ],
      "metadata": {
        "colab": {
          "base_uri": "https://localhost:8080/"
        },
        "id": "ZoJqbfP6q17X",
        "outputId": "0d42db63-b454-4c41-cfb4-599cd212e6a9"
      },
      "execution_count": null,
      "outputs": [
        {
          "output_type": "execute_result",
          "data": {
            "text/plain": [
              "array([[[0.90588236],\n",
              "        [0.83137256],\n",
              "        [0.6117647 ],\n",
              "        ...,\n",
              "        [0.34509805],\n",
              "        [0.43137255],\n",
              "        [0.59607846]],\n",
              "\n",
              "       [[0.09411765],\n",
              "        [0.1254902 ],\n",
              "        [0.14117648],\n",
              "        ...,\n",
              "        [0.5568628 ],\n",
              "        [0.56078434],\n",
              "        [0.5568628 ]],\n",
              "\n",
              "       [[0.01568628],\n",
              "        [0.        ],\n",
              "        [0.        ],\n",
              "        ...,\n",
              "        [0.11764706],\n",
              "        [0.11372549],\n",
              "        [0.11764706]],\n",
              "\n",
              "       ...,\n",
              "\n",
              "       [[0.69803923],\n",
              "        [0.68235296],\n",
              "        [0.6745098 ],\n",
              "        ...,\n",
              "        [0.        ],\n",
              "        [0.        ],\n",
              "        [0.        ]],\n",
              "\n",
              "       [[0.11764706],\n",
              "        [0.10980392],\n",
              "        [0.10980392],\n",
              "        ...,\n",
              "        [0.13725491],\n",
              "        [0.11764706],\n",
              "        [0.10980392]],\n",
              "\n",
              "       [[0.07450981],\n",
              "        [0.05098039],\n",
              "        [0.05490196],\n",
              "        ...,\n",
              "        [0.7411765 ],\n",
              "        [0.78039217],\n",
              "        [0.7882353 ]]], dtype=float32)"
            ]
          },
          "metadata": {},
          "execution_count": 19
        }
      ]
    },
    {
      "cell_type": "code",
      "source": [
        "img_array.shape"
      ],
      "metadata": {
        "colab": {
          "base_uri": "https://localhost:8080/"
        },
        "id": "F1_p2OrhQkUc",
        "outputId": "d7ef3f88-7c2c-4da4-e671-fe583be0146d"
      },
      "execution_count": null,
      "outputs": [
        {
          "output_type": "execute_result",
          "data": {
            "text/plain": [
              "(26385, 48, 48, 1)"
            ]
          },
          "metadata": {},
          "execution_count": 19
        }
      ]
    },
    {
      "cell_type": "code",
      "source": [
        "len(img_labels)"
      ],
      "metadata": {
        "colab": {
          "base_uri": "https://localhost:8080/"
        },
        "id": "vyKcPbHmz5kn",
        "outputId": "1271644c-f94b-4e22-dc8d-82f4a281e349"
      },
      "execution_count": null,
      "outputs": [
        {
          "output_type": "execute_result",
          "data": {
            "text/plain": [
              "26385"
            ]
          },
          "metadata": {},
          "execution_count": 20
        }
      ]
    },
    {
      "cell_type": "code",
      "source": [
        "from spektral.layers import GCNConv\n",
        "A = GCNConv.preprocess(A).astype('f4')\n",
        "A = spektral.utils.normalized_laplacian(A, symmetric=True)"
      ],
      "metadata": {
        "id": "JgIq8COL3ZbH"
      },
      "execution_count": null,
      "outputs": []
    },
    {
      "cell_type": "code",
      "source": [
        "from sklearn.model_selection import train_test_split\n",
        "X_train, X_test, y_train, y_test = train_test_split(img_array, img_labels,\n",
        "                                                    shuffle=True, stratify=img_labels,\n",
        "                                                    test_size=0.2, random_state=42)\n",
        "X_train.shape, X_test.shape, y_train.shape, y_test.shape"
      ],
      "metadata": {
        "id": "lQvMcjY7q2U4",
        "colab": {
          "base_uri": "https://localhost:8080/"
        },
        "outputId": "384bd754-ed4b-4781-c09c-4e62649950e8"
      },
      "execution_count": null,
      "outputs": [
        {
          "output_type": "execute_result",
          "data": {
            "text/plain": [
              "((21108, 48, 48, 1), (5277, 48, 48, 1), (21108, 4), (5277, 4))"
            ]
          },
          "metadata": {},
          "execution_count": 22
        }
      ]
    },
    {
      "cell_type": "code",
      "source": [
        "import tensorflow as tf\n",
        "from spektral.utils import sp_matrix_to_sp_tensor\n",
        "from tensorflow.keras import optimizers\n",
        "from tensorflow.keras.layers import Flatten, Dense, Lambda, Conv2D, MaxPooling2D, Reshape\n",
        "from tensorflow.keras.layers import Dropout, BatchNormalization, LeakyReLU, Activation\n",
        "from tensorflow.keras.callbacks import Callback, EarlyStopping, ReduceLROnPlateau\n",
        "from tensorflow.keras.preprocessing.image import ImageDataGenerator\n",
        "from keras.layers import Input\n",
        "from keras.models import Model, Sequential\n",
        "from keras.regularizers import l2"
      ],
      "metadata": {
        "id": "HJV_mTUS2bry"
      },
      "execution_count": null,
      "outputs": []
    },
    {
      "cell_type": "code",
      "source": [
        "#X_in = Input(shape = (2304,1))\n",
        "A_in = sp_matrix_to_sp_tensor(A)\n",
        "l2_reg = 5e-4\n",
        "\n",
        "\"\"\"\n",
        "GCN1 = spektral.layers.GCNConv(channels = 512, activation='elu', use_bias=True, kernel_initializer='he_normal', kernel_regularizer=l2(l2_reg), name='GCN_1')([X_in,A_in])\n",
        "B1 = BatchNormalization()(GCN1)\n",
        "GCN2 = spektral.layers.GCNConv(channels = 256, activation='elu', use_bias=True, kernel_initializer='he_normal', kernel_regularizer=, name='GCN2')([B1, A_in])\n",
        "B2 = BatchNormalization()(GCN2)\n",
        "# MP1 = spektral.layers.GlobalMaxPool()(B2)\n",
        "D1 = Dropout(0.3)(B2)\n",
        "GCN3 = spektral.layers.GCNConv(channels = 256 ,activation='elu', use_bias=True, kernel_initializer='he_normal', kernel_regularizer=None, name='GCN3')([D1, A_in])\n",
        "B3 = BatchNormalization()(GCN3)\n",
        "GCN4 = spektral.layers.GCNConv(channels = 256 ,activation='elu', use_bias=True, kernel_initializer='he_normal', kernel_regularizer=None, name='GCN4')([B3, A_in])\n",
        "B4 = BatchNormalization()(GCN4)\n",
        "#MP2 = spektral.layers.GlobalMaxPool()(B4)\n",
        "D2 = Dropout(0.3)(B4)\n",
        "GCN5 = spektral.layers.GCNConv(channels = 128 ,activation='elu', use_bias=True, kernel_initializer='he_normal', kernel_regularizer=None, name='GCN5')([D2, A_in])\n",
        "B5 = BatchNormalization()(GCN5)\n",
        "GCN6 = spektral.layers.GCNConv(channels = 128 ,activation='elu', use_bias=True, kernel_initializer='he_normal', kernel_regularizer=None, name='GCN6')([B5, A_in])\n",
        "B6 = BatchNormalization()(GCN6)\n",
        "#MP3 = spektral.layers.GlobalMaxPool()(B6)\n",
        "D3 = Dropout(0.4)(B6)\n",
        "flatten = Flatten()(D3)\n",
        "DS1 = Dense(32,activation='elu',kernel_initializer='he_normal')(flatten)\n",
        "B7 = BatchNormalization()(DS1)\n",
        "D3 = Dropout(0.5)(B7)\n",
        "output = Dense(4 , activation='softmax')(D3)\n",
        "\"\"\"\n",
        "\"\"\"\n",
        "MP1 = spektral.layers.GlobalMaxPool()(X_in)\n",
        "GCN1 = spektral.layers.GCNConv(channels = 32 ,activation='elu', use_bias=True, kernel_initializer='he_normal', kernel_regularizer=None, name='conv2d_1')([MP1 ,A_in])\n",
        "B1 = BatchNormalization()(GCN1)\n",
        "D1 = Dropout(0.1)(B1)\n",
        "GCN2 = spektral.layers.GCNConv(channels = 32 ,activation='elu', use_bias=False, kernel_initializer='he_normal', kernel_regularizer=None, name='conv2d_2')([D1, A_in])\n",
        "B2 = BatchNormalization()(GCN2)\n",
        "MP2 = spektral.layers.GlobalMaxPool()(B2)\n",
        "D2 = Dropout(0.1)(MP2)\n",
        "flatten = Flatten()(D2)\n",
        "DS1 = Dense(32, activation = \"relu\")(flatten)\n",
        "out = Dense(4 , activation=\"softmax\")(DS1)\n",
        "\"\"\""
      ],
      "metadata": {
        "id": "E9Ofutmn2i3L"
      },
      "execution_count": null,
      "outputs": []
    },
    {
      "cell_type": "code",
      "source": [
        "img_width = X_train.shape[1]\n",
        "img_height = X_train.shape[2]\n",
        "img_depth = X_train.shape[3]\n",
        "num_classes = y_train.shape[1]"
      ],
      "metadata": {
        "id": "fADRuI6uRUne"
      },
      "execution_count": null,
      "outputs": []
    },
    {
      "cell_type": "code",
      "source": [
        "X_train = X_train / 255.\n",
        "X_test = X_test / 255."
      ],
      "metadata": {
        "id": "N9VGjizTRaz2"
      },
      "execution_count": null,
      "outputs": []
    },
    {
      "cell_type": "code",
      "source": [
        "A_in = sp_matrix_to_sp_tensor(A)\n",
        "l2_reg = 5e-4\n",
        "\n",
        "X_in = Input(shape = (48,48,1))\n",
        "\n",
        "CN1 = Conv2D(filters=256,kernel_size=(5,5),input_shape=(img_width, img_height, img_depth), activation='elu',\n",
        "                    padding='same',kernel_initializer='he_normal', name='conv2d_1')(X_in)\n",
        "BN1 = BatchNormalization(name='batchnorm_1')(CN1)\n",
        "#reshape2 = Reshape((48, 48, 256 ))(BN2)\n",
        "CN2 = Conv2D(filters=128,kernel_size=(5,5),activation='elu',padding='same',kernel_initializer='he_normal',\n",
        "                        name='conv2d_2')(BN1)\n",
        "BN3 = BatchNormalization(name='batchnorm')(CN2)\n",
        "#MP1 = MaxPooling2D(pool_size=(2,2), name='maxpool2d_1')(BN3)\n",
        "D1 = Dropout(0.4, name='dropout_1')(BN3)\n",
        "CN3 = Conv2D(filters=128,kernel_size=(3,3),activation='elu',padding='same',kernel_initializer='he_normal', name='conv2d_3')(D1)\n",
        "BN4 = BatchNormalization(name='batchnorm_3')(CN3)\n",
        "CN4 = Conv2D(filters=128,kernel_size=(3,3),activation='elu',padding='same',kernel_initializer='he_normal',\n",
        "                        name='conv2d_4')(BN4)\n",
        "BN5 = BatchNormalization(name='batchnorm_4')(CN4)\n",
        "#MP2 = MaxPooling2D(pool_size=(2,2), name='maxpool2d_2')(BN5)\n",
        "D2 = Dropout(0.4, name='dropout_2')(BN5)\n",
        "CN5 = Conv2D(filters=256,kernel_size=(3,3),activation='elu',padding='same',kernel_initializer='he_normal',\n",
        "                        name='conv2d_5')(D2)\n",
        "BN6 = BatchNormalization(name='batchnorm_5')(CN5)\n",
        "CN6 = Conv2D(filters=256,kernel_size=(3,3),activation='elu',padding='same',kernel_initializer='he_normal',\n",
        "                        name='conv2d_6')(BN6)\n",
        "BN7 = BatchNormalization(name='batchnorm_6')(CN6)\n",
        "#MP3 = MaxPooling2D(pool_size=(2,2), name='maxpool2d_3')(BN7)\n",
        "D3 = Dropout(0.5, name='dropout_3')(BN7)\n",
        "# Add a Reshape layer\n",
        "#reshaped = Reshape(2304,)(D3)\n",
        "#GCN1 = spektral.layers.GCNConv(channels = 256, activation='elu', use_bias=True, kernel_initializer='he_normal', kernel_regularizer=l2(l2_reg), name='GCN_1')([D3,A_in])\n",
        "#BN8 = BatchNormalization(name='batchnorm_6')(GCN1)\n",
        "reshape1 = Reshape((2304, 256 ))(D3)\n",
        "GCN1 = spektral.layers.GCNConv(channels = 256, activation='elu', use_bias=True, kernel_initializer='he_normal', kernel_regularizer=l2(l2_reg), name='GCN_1')([reshape1,A_in])\n",
        "BN8 = BatchNormalization(name='batchnorm_2')(GCN1)\n",
        "GCN2 = spektral.layers.GCNConv(channels = 256, activation='elu', use_bias=True, kernel_initializer='he_normal', kernel_regularizer=l2(l2_reg), name='GCN_2')([BN8,A_in])\n",
        "BN9 = BatchNormalization(name='batchnorm_9')(GCN2)\n",
        "MP3 = MaxPooling2D(pool_size=(2,2), name='maxpool2d_2')(BN9)\n",
        "D1 = Dropout(0.5, name='dropout_3')(MP)\n",
        "flatten = Flatten(name='flatten')(D3)\n",
        "DS1 = Dense(128,activation='elu',kernel_initializer='he_normal',name='dense_1')(flatten)\n",
        "BN9 = BatchNormalization(name='batchnorm_7')(DS1)\n",
        "D4 = Dropout(0.6, name='dropout_4')(BN9)\n",
        "output = Dense(4 , activation='softmax')(D4)\n",
        "\n",
        "model = Model(inputs = [X_in], outputs = output)\n"
      ],
      "metadata": {
        "id": "jTW4QVv2ROIb"
      },
      "execution_count": null,
      "outputs": []
    },
    {
      "cell_type": "code",
      "source": [
        "from tensorflow.keras.optimizers import Adam\n",
        "optimizer = Adam(learning_rate=0.001)\n",
        "model.compile(optimizer=optimizer, loss='categorical_crossentropy', metrics=['accuracy'])"
      ],
      "metadata": {
        "id": "epv_7dpw24F9"
      },
      "execution_count": null,
      "outputs": []
    },
    {
      "cell_type": "code",
      "source": [
        "model.summary()"
      ],
      "metadata": {
        "colab": {
          "base_uri": "https://localhost:8080/"
        },
        "id": "rLiBj2Vv8HRl",
        "outputId": "f446da12-c08e-4242-ca0c-5635f4ec26c4"
      },
      "execution_count": null,
      "outputs": [
        {
          "output_type": "stream",
          "name": "stdout",
          "text": [
            "Model: \"model\"\n",
            "_________________________________________________________________\n",
            " Layer (type)                Output Shape              Param #   \n",
            "=================================================================\n",
            " input_1 (InputLayer)        [(None, 48, 48, 1)]       0         \n",
            "                                                                 \n",
            " conv2d_1 (Conv2D)           (None, 48, 48, 256)       6656      \n",
            "                                                                 \n",
            " batchnorm_1 (BatchNormaliza  (None, 48, 48, 256)      1024      \n",
            " tion)                                                           \n",
            "                                                                 \n",
            " reshape (Reshape)           (None, 2304, 256)         0         \n",
            "                                                                 \n",
            " GCN_1 (GCNConv)             (None, 2304, 256)         65792     \n",
            "                                                                 \n",
            " batchnorm_2 (BatchNormaliza  (None, 2304, 256)        1024      \n",
            " tion)                                                           \n",
            "                                                                 \n",
            " reshape_1 (Reshape)         (None, 48, 48, 256)       0         \n",
            "                                                                 \n",
            " conv2d_2 (Conv2D)           (None, 48, 48, 128)       819328    \n",
            "                                                                 \n",
            " batchnorm (BatchNormalizati  (None, 48, 48, 128)      512       \n",
            " on)                                                             \n",
            "                                                                 \n",
            " maxpool2d_1 (MaxPooling2D)  (None, 24, 24, 128)       0         \n",
            "                                                                 \n",
            " dropout_1 (Dropout)         (None, 24, 24, 128)       0         \n",
            "                                                                 \n",
            " conv2d_3 (Conv2D)           (None, 24, 24, 128)       147584    \n",
            "                                                                 \n",
            " batchnorm_3 (BatchNormaliza  (None, 24, 24, 128)      512       \n",
            " tion)                                                           \n",
            "                                                                 \n",
            " conv2d_4 (Conv2D)           (None, 24, 24, 128)       147584    \n",
            "                                                                 \n",
            " batchnorm_4 (BatchNormaliza  (None, 24, 24, 128)      512       \n",
            " tion)                                                           \n",
            "                                                                 \n",
            " maxpool2d_2 (MaxPooling2D)  (None, 12, 12, 128)       0         \n",
            "                                                                 \n",
            " dropout_2 (Dropout)         (None, 12, 12, 128)       0         \n",
            "                                                                 \n",
            " conv2d_5 (Conv2D)           (None, 12, 12, 256)       295168    \n",
            "                                                                 \n",
            " batchnorm_5 (BatchNormaliza  (None, 12, 12, 256)      1024      \n",
            " tion)                                                           \n",
            "                                                                 \n",
            " conv2d_6 (Conv2D)           (None, 12, 12, 256)       590080    \n",
            "                                                                 \n",
            " batchnorm_6 (BatchNormaliza  (None, 12, 12, 256)      1024      \n",
            " tion)                                                           \n",
            "                                                                 \n",
            " maxpool2d_3 (MaxPooling2D)  (None, 6, 6, 256)         0         \n",
            "                                                                 \n",
            " dropout_3 (Dropout)         (None, 6, 6, 256)         0         \n",
            "                                                                 \n",
            " flatten (Flatten)           (None, 9216)              0         \n",
            "                                                                 \n",
            " dense_1 (Dense)             (None, 128)               1179776   \n",
            "                                                                 \n",
            " batchnorm_7 (BatchNormaliza  (None, 128)              512       \n",
            " tion)                                                           \n",
            "                                                                 \n",
            " dropout_4 (Dropout)         (None, 128)               0         \n",
            "                                                                 \n",
            " dense (Dense)               (None, 4)                 516       \n",
            "                                                                 \n",
            "=================================================================\n",
            "Total params: 3,258,628\n",
            "Trainable params: 3,255,556\n",
            "Non-trainable params: 3,072\n",
            "_________________________________________________________________\n"
          ]
        }
      ]
    },
    {
      "cell_type": "code",
      "source": [
        "early_stopping = EarlyStopping(monitor='val_accuracy',min_delta=0.00005,patience=10,verbose=1,\n",
        "    restore_best_weights=True)\n",
        "lr_scheduler = ReduceLROnPlateau(monitor='val_accuracy',factor=0.5,patience=7,min_lr=1e-7,verbose=1)\n",
        "\n",
        "callbacks = [early_stopping,lr_scheduler]"
      ],
      "metadata": {
        "id": "h0gyREm83IwL"
      },
      "execution_count": null,
      "outputs": []
    },
    {
      "cell_type": "code",
      "source": [
        "batch_size=64\n",
        "epochs=75\n",
        "history = model.fit(x = X_train, y = y_train, batch_size = 32, epochs = epochs, validation_data = (X_test, y_test),\n",
        "                    callbacks=callbacks)"
      ],
      "metadata": {
        "colab": {
          "base_uri": "https://localhost:8080/"
        },
        "id": "iMItazYW3L35",
        "outputId": "6ded156d-3431-4b6c-e84c-cab6abd963cc"
      },
      "execution_count": null,
      "outputs": [
        {
          "output_type": "stream",
          "name": "stdout",
          "text": [
            "Epoch 1/75\n",
            "660/660 [==============================] - 85s 114ms/step - loss: 1.5918 - accuracy: 0.4519 - val_loss: 1.1785 - val_accuracy: 0.5657 - lr: 0.0010\n",
            "Epoch 2/75\n",
            "660/660 [==============================] - 73s 110ms/step - loss: 1.1237 - accuracy: 0.5596 - val_loss: 0.9982 - val_accuracy: 0.6182 - lr: 0.0010\n",
            "Epoch 3/75\n",
            "660/660 [==============================] - 78s 118ms/step - loss: 0.9926 - accuracy: 0.5978 - val_loss: 0.9243 - val_accuracy: 0.6394 - lr: 0.0010\n",
            "Epoch 4/75\n",
            "660/660 [==============================] - 78s 118ms/step - loss: 0.9349 - accuracy: 0.6156 - val_loss: 0.9083 - val_accuracy: 0.6301 - lr: 0.0010\n",
            "Epoch 5/75\n",
            "660/660 [==============================] - 78s 118ms/step - loss: 0.8829 - accuracy: 0.6347 - val_loss: 0.8536 - val_accuracy: 0.6506 - lr: 0.0010\n",
            "Epoch 6/75\n",
            "660/660 [==============================] - 79s 119ms/step - loss: 0.8522 - accuracy: 0.6521 - val_loss: 0.8376 - val_accuracy: 0.6602 - lr: 0.0010\n",
            "Epoch 7/75\n",
            "660/660 [==============================] - 73s 111ms/step - loss: 0.8211 - accuracy: 0.6680 - val_loss: 0.8106 - val_accuracy: 0.6720 - lr: 0.0010\n",
            "Epoch 8/75\n",
            "660/660 [==============================] - 73s 110ms/step - loss: 0.7876 - accuracy: 0.6845 - val_loss: 0.8394 - val_accuracy: 0.6642 - lr: 0.0010\n",
            "Epoch 9/75\n",
            "660/660 [==============================] - 73s 110ms/step - loss: 0.7598 - accuracy: 0.6942 - val_loss: 0.7946 - val_accuracy: 0.6926 - lr: 0.0010\n",
            "Epoch 10/75\n",
            "660/660 [==============================] - 77s 117ms/step - loss: 0.7272 - accuracy: 0.7109 - val_loss: 0.7938 - val_accuracy: 0.6873 - lr: 0.0010\n",
            "Epoch 11/75\n",
            "660/660 [==============================] - 78s 118ms/step - loss: 0.6979 - accuracy: 0.7245 - val_loss: 0.7867 - val_accuracy: 0.6883 - lr: 0.0010\n",
            "Epoch 12/75\n",
            "660/660 [==============================] - 78s 118ms/step - loss: 0.6681 - accuracy: 0.7372 - val_loss: 0.7927 - val_accuracy: 0.6877 - lr: 0.0010\n",
            "Epoch 13/75\n",
            "660/660 [==============================] - 78s 118ms/step - loss: 0.6352 - accuracy: 0.7537 - val_loss: 0.7867 - val_accuracy: 0.7027 - lr: 0.0010\n",
            "Epoch 14/75\n",
            "660/660 [==============================] - 73s 110ms/step - loss: 0.6072 - accuracy: 0.7653 - val_loss: 0.7873 - val_accuracy: 0.6985 - lr: 0.0010\n",
            "Epoch 15/75\n",
            "660/660 [==============================] - 73s 110ms/step - loss: 0.5762 - accuracy: 0.7830 - val_loss: 0.8152 - val_accuracy: 0.7031 - lr: 0.0010\n",
            "Epoch 16/75\n",
            "660/660 [==============================] - 77s 117ms/step - loss: 0.5435 - accuracy: 0.7949 - val_loss: 0.8598 - val_accuracy: 0.6932 - lr: 0.0010\n",
            "Epoch 17/75\n",
            "660/660 [==============================] - 78s 117ms/step - loss: 0.5114 - accuracy: 0.8088 - val_loss: 0.8140 - val_accuracy: 0.7068 - lr: 0.0010\n",
            "Epoch 18/75\n",
            "660/660 [==============================] - 73s 110ms/step - loss: 0.4881 - accuracy: 0.8180 - val_loss: 0.8141 - val_accuracy: 0.7046 - lr: 0.0010\n",
            "Epoch 19/75\n",
            "660/660 [==============================] - 78s 118ms/step - loss: 0.4609 - accuracy: 0.8270 - val_loss: 0.8336 - val_accuracy: 0.7089 - lr: 0.0010\n",
            "Epoch 20/75\n",
            "660/660 [==============================] - 73s 110ms/step - loss: 0.4297 - accuracy: 0.8420 - val_loss: 0.8698 - val_accuracy: 0.7205 - lr: 0.0010\n",
            "Epoch 21/75\n",
            "660/660 [==============================] - 73s 110ms/step - loss: 0.4077 - accuracy: 0.8508 - val_loss: 0.9140 - val_accuracy: 0.7078 - lr: 0.0010\n",
            "Epoch 22/75\n",
            "660/660 [==============================] - 73s 110ms/step - loss: 0.3917 - accuracy: 0.8572 - val_loss: 0.8843 - val_accuracy: 0.7110 - lr: 0.0010\n",
            "Epoch 23/75\n",
            "660/660 [==============================] - 77s 117ms/step - loss: 0.3704 - accuracy: 0.8630 - val_loss: 0.9702 - val_accuracy: 0.7131 - lr: 0.0010\n",
            "Epoch 24/75\n",
            "660/660 [==============================] - 78s 117ms/step - loss: 0.3465 - accuracy: 0.8720 - val_loss: 0.9543 - val_accuracy: 0.7025 - lr: 0.0010\n",
            "Epoch 25/75\n",
            "660/660 [==============================] - 78s 117ms/step - loss: 0.3359 - accuracy: 0.8787 - val_loss: 0.9504 - val_accuracy: 0.7133 - lr: 0.0010\n",
            "Epoch 26/75\n",
            "660/660 [==============================] - 78s 118ms/step - loss: 0.3252 - accuracy: 0.8863 - val_loss: 0.9382 - val_accuracy: 0.7044 - lr: 0.0010\n",
            "Epoch 27/75\n",
            "660/660 [==============================] - ETA: 0s - loss: 0.3139 - accuracy: 0.8870\n",
            "Epoch 27: ReduceLROnPlateau reducing learning rate to 0.0005000000237487257.\n",
            "660/660 [==============================] - 78s 118ms/step - loss: 0.3139 - accuracy: 0.8870 - val_loss: 0.9291 - val_accuracy: 0.7159 - lr: 0.0010\n",
            "Epoch 28/75\n",
            "660/660 [==============================] - 73s 110ms/step - loss: 0.2556 - accuracy: 0.9139 - val_loss: 0.9465 - val_accuracy: 0.7262 - lr: 5.0000e-04\n",
            "Epoch 29/75\n",
            "660/660 [==============================] - 78s 117ms/step - loss: 0.2256 - accuracy: 0.9212 - val_loss: 1.0090 - val_accuracy: 0.7241 - lr: 5.0000e-04\n",
            "Epoch 30/75\n",
            "660/660 [==============================] - 78s 118ms/step - loss: 0.2088 - accuracy: 0.9265 - val_loss: 1.0317 - val_accuracy: 0.7188 - lr: 5.0000e-04\n",
            "Epoch 31/75\n",
            "660/660 [==============================] - 78s 118ms/step - loss: 0.1979 - accuracy: 0.9332 - val_loss: 1.0697 - val_accuracy: 0.7157 - lr: 5.0000e-04\n",
            "Epoch 32/75\n",
            "660/660 [==============================] - 73s 110ms/step - loss: 0.1867 - accuracy: 0.9372 - val_loss: 1.1820 - val_accuracy: 0.7207 - lr: 5.0000e-04\n",
            "Epoch 33/75\n",
            "660/660 [==============================] - 73s 110ms/step - loss: 0.1789 - accuracy: 0.9386 - val_loss: 1.1606 - val_accuracy: 0.7207 - lr: 5.0000e-04\n",
            "Epoch 34/75\n",
            "660/660 [==============================] - 78s 118ms/step - loss: 0.1735 - accuracy: 0.9399 - val_loss: 1.1498 - val_accuracy: 0.7146 - lr: 5.0000e-04\n",
            "Epoch 35/75\n",
            "660/660 [==============================] - ETA: 0s - loss: 0.1673 - accuracy: 0.9424\n",
            "Epoch 35: ReduceLROnPlateau reducing learning rate to 0.0002500000118743628.\n",
            "660/660 [==============================] - 73s 110ms/step - loss: 0.1673 - accuracy: 0.9424 - val_loss: 1.2214 - val_accuracy: 0.7140 - lr: 5.0000e-04\n",
            "Epoch 36/75\n",
            "660/660 [==============================] - 78s 118ms/step - loss: 0.1454 - accuracy: 0.9497 - val_loss: 1.1620 - val_accuracy: 0.7165 - lr: 2.5000e-04\n",
            "Epoch 37/75\n",
            "660/660 [==============================] - 73s 111ms/step - loss: 0.1371 - accuracy: 0.9534 - val_loss: 1.1662 - val_accuracy: 0.7216 - lr: 2.5000e-04\n",
            "Epoch 38/75\n",
            "660/660 [==============================] - ETA: 0s - loss: 0.1293 - accuracy: 0.9549Restoring model weights from the end of the best epoch: 28.\n",
            "660/660 [==============================] - 77s 117ms/step - loss: 0.1293 - accuracy: 0.9549 - val_loss: 1.2372 - val_accuracy: 0.7197 - lr: 2.5000e-04\n",
            "Epoch 38: early stopping\n"
          ]
        }
      ]
    },
    {
      "cell_type": "code",
      "source": [
        "y_pred = model.predict(X_test)\n",
        "y_true = y_test"
      ],
      "metadata": {
        "colab": {
          "base_uri": "https://localhost:8080/"
        },
        "id": "Hb8GFkjQuAfs",
        "outputId": "7200e228-45fc-4e7a-f430-f8f422a68c8d"
      },
      "execution_count": null,
      "outputs": [
        {
          "output_type": "stream",
          "name": "stdout",
          "text": [
            "165/165 [==============================] - 6s 33ms/step\n"
          ]
        }
      ]
    },
    {
      "cell_type": "code",
      "source": [
        "from sklearn.metrics import precision_score, recall_score\n",
        "y_true = np.argmax(y_true, axis=1)\n",
        "y_pred = np.argmax(y_pred, axis=1)\n",
        "\n",
        "precision = precision_score(y_true, y_pred, average='macro')\n",
        "recall = recall_score(y_true, y_pred, average='macro')"
      ],
      "metadata": {
        "id": "EOVXJFAQvGve"
      },
      "execution_count": null,
      "outputs": []
    },
    {
      "cell_type": "code",
      "source": [
        "print('Precision:', precision)\n",
        "print('Recall:', recall)"
      ],
      "metadata": {
        "colab": {
          "base_uri": "https://localhost:8080/"
        },
        "id": "hhGZcQV2vMgN",
        "outputId": "44d1f622-3642-47ce-a790-c45b21451b12"
      },
      "execution_count": null,
      "outputs": [
        {
          "output_type": "stream",
          "name": "stdout",
          "text": [
            "Precision: 0.7055095567481405\n",
            "Recall: 0.7029532876374842\n"
          ]
        }
      ]
    },
    {
      "cell_type": "code",
      "source": [
        "f1 = 2 * (precision * recall) / (precision + recall)\n",
        "\n",
        "print('F1 score:', f1)"
      ],
      "metadata": {
        "colab": {
          "base_uri": "https://localhost:8080/"
        },
        "id": "4KQhzC2svjBL",
        "outputId": "394b1cc0-64d6-40d2-b41a-5f39b7378e15"
      },
      "execution_count": null,
      "outputs": [
        {
          "output_type": "stream",
          "name": "stdout",
          "text": [
            "F1 score: 0.7042291024611304\n"
          ]
        }
      ]
    },
    {
      "cell_type": "code",
      "source": [
        "from sklearn.metrics import confusion_matrix\n",
        "confusion_matrix = confusion_matrix(y_true, y_pred)"
      ],
      "metadata": {
        "id": "Ppr_It-bvk5t"
      },
      "execution_count": null,
      "outputs": []
    },
    {
      "cell_type": "code",
      "source": [
        "confusion_matrix"
      ],
      "metadata": {
        "colab": {
          "base_uri": "https://localhost:8080/"
        },
        "id": "nXGyJZiSvo0f",
        "outputId": "7399d385-4162-44c3-a7fb-898438d40c3f"
      },
      "execution_count": null,
      "outputs": [
        {
          "output_type": "execute_result",
          "data": {
            "text/plain": [
              "array([[ 635,   59,  212,  118],\n",
              "       [  61, 1593,   57,   87],\n",
              "       [ 166,   67,  733,  249],\n",
              "       [  83,   99,  187,  871]])"
            ]
          },
          "metadata": {},
          "execution_count": 36
        }
      ]
    },
    {
      "cell_type": "code",
      "source": [
        "model.predict(X_test)"
      ],
      "metadata": {
        "colab": {
          "base_uri": "https://localhost:8080/"
        },
        "id": "RoVLK0mTZbIa",
        "outputId": "facaa061-3296-4244-ac8e-621420c8c882"
      },
      "execution_count": null,
      "outputs": [
        {
          "output_type": "stream",
          "name": "stdout",
          "text": [
            "165/165 [==============================] - 17s 103ms/step\n"
          ]
        },
        {
          "output_type": "execute_result",
          "data": {
            "text/plain": [
              "array([[0.19815241, 0.33802423, 0.23164697, 0.23217642],\n",
              "       [0.1968421 , 0.33864844, 0.23119645, 0.23331304],\n",
              "       [0.1794572 , 0.34674954, 0.2247494 , 0.24904382],\n",
              "       ...,\n",
              "       [0.19815241, 0.33802423, 0.23164697, 0.23217642],\n",
              "       [0.19815241, 0.33802423, 0.23164697, 0.23217642],\n",
              "       [0.19815241, 0.33802423, 0.23164697, 0.23217642]], dtype=float32)"
            ]
          },
          "metadata": {},
          "execution_count": 52
        }
      ]
    },
    {
      "cell_type": "code",
      "source": [
        "y_test"
      ],
      "metadata": {
        "colab": {
          "base_uri": "https://localhost:8080/"
        },
        "id": "P8n-Jzxya8uJ",
        "outputId": "0b55fcf1-8b59-4e47-9a1e-c2480196ba32"
      },
      "execution_count": null,
      "outputs": [
        {
          "output_type": "execute_result",
          "data": {
            "text/plain": [
              "array([[1., 0., 0., 0.],\n",
              "       [0., 1., 0., 0.],\n",
              "       [0., 1., 0., 0.],\n",
              "       ...,\n",
              "       [0., 0., 0., 1.],\n",
              "       [1., 0., 0., 0.],\n",
              "       [1., 0., 0., 0.]], dtype=float32)"
            ]
          },
          "metadata": {},
          "execution_count": 56
        }
      ]
    },
    {
      "cell_type": "code",
      "source": [
        "X_test"
      ],
      "metadata": {
        "colab": {
          "base_uri": "https://localhost:8080/"
        },
        "id": "kbz2AqDfaqLw",
        "outputId": "a780ebf4-b528-4710-fbae-0da154115834"
      },
      "execution_count": null,
      "outputs": [
        {
          "output_type": "execute_result",
          "data": {
            "text/plain": [
              "array([[[0.62352943],\n",
              "        [0.5921569 ],\n",
              "        [0.61960787],\n",
              "        ...,\n",
              "        [0.4509804 ],\n",
              "        [0.29803923],\n",
              "        [0.38431373]],\n",
              "\n",
              "       [[0.03137255],\n",
              "        [0.02745098],\n",
              "        [0.02352941],\n",
              "        ...,\n",
              "        [0.04705882],\n",
              "        [0.03137255],\n",
              "        [0.04313726]],\n",
              "\n",
              "       [[0.19215687],\n",
              "        [0.2509804 ],\n",
              "        [0.3254902 ],\n",
              "        ...,\n",
              "        [0.48235294],\n",
              "        [0.5137255 ],\n",
              "        [0.5294118 ]],\n",
              "\n",
              "       ...,\n",
              "\n",
              "       [[0.6627451 ],\n",
              "        [0.6627451 ],\n",
              "        [0.6627451 ],\n",
              "        ...,\n",
              "        [0.14509805],\n",
              "        [0.14509805],\n",
              "        [0.16862746]],\n",
              "\n",
              "       [[0.16862746],\n",
              "        [0.16862746],\n",
              "        [0.16862746],\n",
              "        ...,\n",
              "        [0.6117647 ],\n",
              "        [0.5294118 ],\n",
              "        [0.5019608 ]],\n",
              "\n",
              "       [[0.39215687],\n",
              "        [0.43137255],\n",
              "        [0.45882353],\n",
              "        ...,\n",
              "        [0.58431375],\n",
              "        [0.53333336],\n",
              "        [0.5294118 ]]], dtype=float32)"
            ]
          },
          "metadata": {},
          "execution_count": 55
        }
      ]
    },
    {
      "cell_type": "code",
      "source": [],
      "metadata": {
        "id": "bpvZV55Yaua-"
      },
      "execution_count": null,
      "outputs": []
    }
  ]
}